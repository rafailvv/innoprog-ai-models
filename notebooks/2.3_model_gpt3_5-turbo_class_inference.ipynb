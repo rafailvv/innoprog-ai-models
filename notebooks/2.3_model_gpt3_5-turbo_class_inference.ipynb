{
  "cells": [
    {
      "cell_type": "code",
      "execution_count": null,
      "metadata": {
        "colab": {
          "base_uri": "https://localhost:8080/"
        },
        "id": "taH27ZOgy4H6",
        "outputId": "94ccf4d7-659b-4711-d594-5810a12aa85f"
      },
      "outputs": [],
      "source": [
        "%pip install openai"
      ]
    },
    {
      "cell_type": "code",
      "execution_count": 34,
      "metadata": {
        "colab": {
          "base_uri": "https://localhost:8080/"
        },
        "id": "hqY-2HKiw17B",
        "outputId": "f5d470bf-8374-4b78-87c6-8169eb22608c"
      },
      "outputs": [
        {
          "name": "stdout",
          "output_type": "stream",
          "text": [
            "1\n"
          ]
        }
      ],
      "source": [
        "from openai import OpenAI\n",
        "\n",
        "api_key = 'YOUR_API_KEY'\n",
        "\n",
        "# Initialize the OpenAI API client\n",
        "client = OpenAI(api_key=api_key)\n",
        "\n",
        "completion = client.chat.completions.create(\n",
        "  model=\"gpt-3.5-turbo\",\n",
        "  messages=[\n",
        "    {\"role\": \"system\", \"content\": \"Представь, что ты классификационная модель. Тебе нужно классифицировать данный текст в одну из трех категорий.\"\\\n",
        "                                  \"Отвечай только номер категории и ни слова больше. \"\\\n",
        "                                  \"Список категорий: \"\\\n",
        "                                  \"1. помощь с задачей (запросы подсказок для задач) \"\\\n",
        "                                  \"2. организационные вопросы (вопросы по поводу расписания и занятий)\"\\\n",
        "                                  \"3. другое. Если у тебя нет высокой уверенности в ответе, то отправляй запрос в третью категорию\"},\n",
        "    {\"role\": \"user\", \"content\": \"Дайте подсказку по задаче\"},\n",
        "  ]\n",
        ")\n",
        "\n",
        "# Extract and print the model's reply\n",
        "print(completion.choices[0].message.content)"
      ]
    },
    {
      "cell_type": "code",
      "execution_count": 38,
      "metadata": {
        "colab": {
          "base_uri": "https://localhost:8080/"
        },
        "id": "IoYXav6R0ZJ1",
        "outputId": "c122ba6d-bb17-4a1c-9172-0f679dbd3111"
      },
      "outputs": [
        {
          "name": "stdout",
          "output_type": "stream",
          "text": [
            "2\n"
          ]
        }
      ],
      "source": [
        "completion = client.chat.completions.create(\n",
        "  model=\"gpt-3.5-turbo\",\n",
        "  messages=[\n",
        "    {\"role\": \"system\", \"content\": \"Представь, что ты классификационная модель. Тебе нужно классифицировать данный текст в одну из трех категорий.\"\\\n",
        "                                  \"Отвечай только номер категории и ни слова больше. \"\\\n",
        "                                  \"Список категорий: \"\\\n",
        "                                  \"1. помощь с задачей (запросы подсказок для задач) \"\\\n",
        "                                  \"2. организационные вопросы (вопросы по поводу расписания и занятий)\"\\\n",
        "                                  \"3. другое. Если у тебя нет высокой уверенности в ответе, то отправляй запрос в третью категорию\"},\n",
        "    {\"role\": \"user\", \"content\": \"Когда следующее занятие\"},\n",
        "  ]\n",
        ")\n",
        "\n",
        "# Extract and print the model's reply\n",
        "print(completion.choices[0].message.content)"
      ]
    },
    {
      "cell_type": "code",
      "execution_count": 37,
      "metadata": {
        "colab": {
          "base_uri": "https://localhost:8080/"
        },
        "id": "e_cVr7SY3pvA",
        "outputId": "9abeb7b3-146b-4d90-c81b-c3ec66ce5a1e"
      },
      "outputs": [
        {
          "name": "stdout",
          "output_type": "stream",
          "text": [
            "3\n"
          ]
        }
      ],
      "source": [
        "completion = client.chat.completions.create(\n",
        "  model=\"gpt-3.5-turbo\",\n",
        "  messages=[\n",
        "    {\"role\": \"system\", \"content\": \"Представь, что ты классификационная модель. Тебе нужно классифицировать данный текст в одну из трех категорий.\"\\\n",
        "                                  \"Отвечай только номер категории и ни слова больше. \"\\\n",
        "                                  \"Список категорий: \"\\\n",
        "                                  \"1. помощь с задачей (запросы подсказок для задач) \"\\\n",
        "                                  \"2. организационные вопросы (вопросы по поводу расписания и занятий)\"\\\n",
        "                                  \"3. другое. Если у тебя нет высокой уверенности в ответе, то отправляй запрос в третью категорию\"},\n",
        "    {\"role\": \"user\", \"content\": \"Как установить pyCharm?\"},\n",
        "  ]\n",
        ")\n",
        "\n",
        "# Extract and print the model's reply\n",
        "print(completion.choices[0].message.content)"
      ]
    }
  ],
  "metadata": {
    "colab": {
      "provenance": []
    },
    "kernelspec": {
      "display_name": "Python 3",
      "name": "python3"
    },
    "language_info": {
      "name": "python"
    }
  },
  "nbformat": 4,
  "nbformat_minor": 0
}
