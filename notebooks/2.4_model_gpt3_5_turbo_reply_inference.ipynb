{
  "nbformat": 4,
  "nbformat_minor": 0,
  "metadata": {
    "colab": {
      "provenance": []
    },
    "kernelspec": {
      "name": "python3",
      "display_name": "Python 3"
    },
    "language_info": {
      "name": "python"
    }
  },
  "cells": [
    {
      "cell_type": "code",
      "source": [
        "%pip install openai"
      ],
      "metadata": {
        "colab": {
          "base_uri": "https://localhost:8080/"
        },
        "id": "taH27ZOgy4H6",
        "outputId": "f70ef343-782c-4903-8f1d-7fb94af74f48"
      },
      "execution_count": 2,
      "outputs": [
        {
          "output_type": "stream",
          "name": "stdout",
          "text": [
            "Collecting openai\n",
            "  Downloading openai-1.3.5-py3-none-any.whl (220 kB)\n",
            "\u001b[?25l     \u001b[90m━━━━━━━━━━━━━━━━━━━━━━━━━━━━━━━━━━━━━━━━\u001b[0m \u001b[32m0.0/220.8 kB\u001b[0m \u001b[31m?\u001b[0m eta \u001b[36m-:--:--\u001b[0m\r\u001b[2K     \u001b[91m━━━━━━━━━━━━━━━━━━━━━━━━━\u001b[0m\u001b[91m╸\u001b[0m\u001b[90m━━━━━━━━━━━━━━\u001b[0m \u001b[32m143.4/220.8 kB\u001b[0m \u001b[31m4.0 MB/s\u001b[0m eta \u001b[36m0:00:01\u001b[0m\r\u001b[2K     \u001b[90m━━━━━━━━━━━━━━━━━━━━━━━━━━━━━━━━━━━━━━━━\u001b[0m \u001b[32m220.8/220.8 kB\u001b[0m \u001b[31m4.3 MB/s\u001b[0m eta \u001b[36m0:00:00\u001b[0m\n",
            "\u001b[?25hRequirement already satisfied: anyio<4,>=3.5.0 in /usr/local/lib/python3.10/dist-packages (from openai) (3.7.1)\n",
            "Requirement already satisfied: distro<2,>=1.7.0 in /usr/lib/python3/dist-packages (from openai) (1.7.0)\n",
            "Collecting httpx<1,>=0.23.0 (from openai)\n",
            "  Downloading httpx-0.25.2-py3-none-any.whl (74 kB)\n",
            "\u001b[2K     \u001b[90m━━━━━━━━━━━━━━━━━━━━━━━━━━━━━━━━━━━━━━━━\u001b[0m \u001b[32m75.0/75.0 kB\u001b[0m \u001b[31m5.1 MB/s\u001b[0m eta \u001b[36m0:00:00\u001b[0m\n",
            "\u001b[?25hRequirement already satisfied: pydantic<3,>=1.9.0 in /usr/local/lib/python3.10/dist-packages (from openai) (1.10.13)\n",
            "Requirement already satisfied: tqdm>4 in /usr/local/lib/python3.10/dist-packages (from openai) (4.66.1)\n",
            "Requirement already satisfied: typing-extensions<5,>=4.5 in /usr/local/lib/python3.10/dist-packages (from openai) (4.5.0)\n",
            "Requirement already satisfied: idna>=2.8 in /usr/local/lib/python3.10/dist-packages (from anyio<4,>=3.5.0->openai) (3.4)\n",
            "Requirement already satisfied: sniffio>=1.1 in /usr/local/lib/python3.10/dist-packages (from anyio<4,>=3.5.0->openai) (1.3.0)\n",
            "Requirement already satisfied: exceptiongroup in /usr/local/lib/python3.10/dist-packages (from anyio<4,>=3.5.0->openai) (1.1.3)\n",
            "Requirement already satisfied: certifi in /usr/local/lib/python3.10/dist-packages (from httpx<1,>=0.23.0->openai) (2023.7.22)\n",
            "Collecting httpcore==1.* (from httpx<1,>=0.23.0->openai)\n",
            "  Downloading httpcore-1.0.2-py3-none-any.whl (76 kB)\n",
            "\u001b[2K     \u001b[90m━━━━━━━━━━━━━━━━━━━━━━━━━━━━━━━━━━━━━━━━\u001b[0m \u001b[32m76.9/76.9 kB\u001b[0m \u001b[31m11.8 MB/s\u001b[0m eta \u001b[36m0:00:00\u001b[0m\n",
            "\u001b[?25hCollecting h11<0.15,>=0.13 (from httpcore==1.*->httpx<1,>=0.23.0->openai)\n",
            "  Downloading h11-0.14.0-py3-none-any.whl (58 kB)\n",
            "\u001b[2K     \u001b[90m━━━━━━━━━━━━━━━━━━━━━━━━━━━━━━━━━━━━━━━━\u001b[0m \u001b[32m58.3/58.3 kB\u001b[0m \u001b[31m7.4 MB/s\u001b[0m eta \u001b[36m0:00:00\u001b[0m\n",
            "\u001b[?25hInstalling collected packages: h11, httpcore, httpx, openai\n",
            "\u001b[31mERROR: pip's dependency resolver does not currently take into account all the packages that are installed. This behaviour is the source of the following dependency conflicts.\n",
            "llmx 0.0.15a0 requires cohere, which is not installed.\n",
            "llmx 0.0.15a0 requires tiktoken, which is not installed.\u001b[0m\u001b[31m\n",
            "\u001b[0mSuccessfully installed h11-0.14.0 httpcore-1.0.2 httpx-0.25.2 openai-1.3.5\n"
          ]
        }
      ]
    },
    {
      "cell_type": "code",
      "source": [
        "from openai import OpenAI\n",
        "\n",
        "api_key = 'YOUR_API_KEY'\n",
        "\n",
        "# Initialize the OpenAI API client\n",
        "client = OpenAI(api_key=api_key)\n",
        "\n",
        "completion = client.chat.completions.create(\n",
        "  model=\"gpt-3.5-turbo\",\n",
        "  messages=[\n",
        "    {\"role\": \"system\", \"content\": \"Представь, что ты чат ассистент образовательной школы.\"\\\n",
        "                                  \"Тебе на вход будет подаваться информация, которую нужно сообщить ученику.\"\\\n",
        "                                  \"В ответ составь корректное, вежливое, подбадривающее сообщение.\"\\\n",
        "                                  \"Включи в него лаконично данную для перефразирования информацию.\"},\n",
        "    {\"role\": \"user\", \"content\": \"информация о расписании: среда, 10:30, преподаватель: Нуртдинов Дамир\"},\n",
        "  ]\n",
        ")\n",
        "\n",
        "# Extract and print the model's reply\n",
        "print(completion.choices[0].message.content)"
      ],
      "metadata": {
        "colab": {
          "base_uri": "https://localhost:8080/"
        },
        "id": "hqY-2HKiw17B",
        "outputId": "ad445dfe-793a-456c-8607-779f2100b7ab"
      },
      "execution_count": 3,
      "outputs": [
        {
          "output_type": "stream",
          "name": "stdout",
          "text": [
            "Привет! Хочу поделиться с тобой актуальной информацией о твоем расписании. В эту среду в 10:30 тебя ожидает урок с преподавателем Нуртдиновым Дамиром. Готовься к интересным занятиям и успехам! Если у тебя есть какие-либо вопросы, не стесняйся задавать. Удачи и хорошего дня!\n"
          ]
        }
      ]
    },
    {
      "cell_type": "code",
      "source": [
        "completion = client.chat.completions.create(\n",
        "  model=\"gpt-3.5-turbo\",\n",
        "  messages=[\n",
        "    {\"role\": \"system\", \"content\": \"Представь, что ты чат ассистент образовательной школы.\"\\\n",
        "                                  \"Тебе на вход будет подаваться информация, которую нужно сообщить ученику.\"\\\n",
        "                                  \"В ответ составь корректное, вежливое, подбадривающее сообщение.\"\\\n",
        "                                  \"Включи в него лаконично данную для перефразирования информацию.\"},\n",
        "    {\"role\": \"user\", \"content\": \"подсказка по задаче: важно обратить внимание на четность чисел\"},\n",
        "  ]\n",
        ")\n",
        "\n",
        "# Extract and print the model's reply\n",
        "print(completion.choices[0].message.content)"
      ],
      "metadata": {
        "colab": {
          "base_uri": "https://localhost:8080/"
        },
        "id": "IoYXav6R0ZJ1",
        "outputId": "11bd9b83-32ec-451a-e281-5a275e8d5a84"
      },
      "execution_count": 4,
      "outputs": [
        {
          "output_type": "stream",
          "name": "stdout",
          "text": [
            "Привет! Я заметил, что тебе может пригодиться подсказка по задаче. Очень важно обратить внимание на четность чисел. Постарайся разделить числа на две группы - четные и нечетные. Это поможет тебе легче решить задачу. Удачи!\n"
          ]
        }
      ]
    },
    {
      "cell_type": "code",
      "source": [
        "completion = client.chat.completions.create(\n",
        "  model=\"gpt-3.5-turbo\",\n",
        "  messages=[\n",
        "    {\"role\": \"system\", \"content\": \"Представь, что ты чат ассистент образовательной школы.\"\\\n",
        "                                  \"Тебе на вход будет подаваться информация, которую нужно сообщить ученику.\"\\\n",
        "                                  \"В ответ составь корректное, вежливое, подбадривающее сообщение.\"\\\n",
        "                                  \"Включи в него лаконично данную для перефразирования информацию.\"},\n",
        "    {\"role\": \"user\", \"content\": \"разговор: как установить pyCharm?\"},\n",
        "  ]\n",
        ")\n",
        "\n",
        "# Extract and print the model's reply\n",
        "print(completion.choices[0].message.content)"
      ],
      "metadata": {
        "colab": {
          "base_uri": "https://localhost:8080/"
        },
        "id": "e_cVr7SY3pvA",
        "outputId": "6302f9e9-80c4-4089-f3b5-4023855834c0"
      },
      "execution_count": 5,
      "outputs": [
        {
          "output_type": "stream",
          "name": "stdout",
          "text": [
            "Привет!\n",
            "\n",
            "Чтобы установить PyCharm, следуй следующим шагам:\n",
            "\n",
            "1. Посети официальный сайт Jetbrains и перейди на страницу загрузки PyCharm.\n",
            "2. Выбери нужную версию PyCharm для своей операционной системы (Windows, macOS или Linux).\n",
            "3. Загрузи установочный файл PyCharm.\n",
            "4. Запусти установочный файл и следуй инструкциям мастера установки.\n",
            "5. После завершения установки, открой PyCharm и создай новый проект или открой существующий.\n",
            "\n",
            "Установка PyCharm - это важный шаг для разработки на языке программирования Python. Уверяю тебя, что с помощью PyCharm ты сможешь удобно и эффективно разрабатывать свои проекты!\n",
            "\n",
            "Если у тебя возникнут какие-либо вопросы по установке или использованию PyCharm, не стесняйся обратиться за помощью. Я всегда готов помочь!\n",
            "\n",
            "Удачи в изучении Python!\n"
          ]
        }
      ]
    }
  ]
}