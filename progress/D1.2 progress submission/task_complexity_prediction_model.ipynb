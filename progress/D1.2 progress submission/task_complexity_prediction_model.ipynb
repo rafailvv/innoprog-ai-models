{
 "cells": [
  {
   "cell_type": "markdown",
   "source": [
    "# Data prepocessing"
   ],
   "metadata": {
    "collapsed": false
   }
  },
  {
   "cell_type": "markdown",
   "source": [
    "Grouping all csv tables in one"
   ],
   "metadata": {
    "collapsed": false
   }
  },
  {
   "cell_type": "code",
   "execution_count": 60,
   "metadata": {
    "collapsed": true
   },
   "outputs": [],
   "source": [
    "import os\n",
    "import numpy as np\n",
    "import pandas as pd"
   ]
  },
  {
   "cell_type": "code",
   "execution_count": 61,
   "outputs": [],
   "source": [
    "from os import listdir\n",
    "from os.path import isfile, join\n",
    "\n",
    "mypath = 'datasets/task_complexity_raw'\n",
    "onlyfiles = [f for f in listdir(mypath) if isfile(join(mypath, f))]"
   ],
   "metadata": {
    "collapsed": false
   }
  },
  {
   "cell_type": "code",
   "execution_count": 62,
   "outputs": [],
   "source": [
    "onlyfiles.remove('.DS_Store')"
   ],
   "metadata": {
    "collapsed": false
   }
  },
  {
   "cell_type": "code",
   "execution_count": 63,
   "outputs": [
    {
     "name": "stdout",
     "output_type": "stream",
     "text": [
      "510336337.csv\n",
      "1258161767.csv\n",
      "85530497.csv\n",
      "1127516200.csv\n",
      "599376141.csv\n",
      "541757954.csv\n",
      "531148445.csv\n",
      "1071428154.csv\n",
      "352878789.csv\n",
      "1637520897.csv\n",
      "683586290.csv\n",
      "2011289699.csv\n",
      "912153226.csv\n",
      "429272623.csv\n",
      "151538509.csv\n",
      "1338446952.csv\n",
      "1310106122.csv\n",
      "1028667251.csv\n",
      "1901684715.csv\n",
      "1290671920.csv\n",
      "898397711.csv\n",
      "1899417395.csv\n",
      "887933302.csv\n",
      "980314213.csv\n",
      "1954886996.csv\n",
      "793376770.csv\n",
      "1709416284.csv\n",
      "1385982707.csv\n",
      "393767232.csv\n",
      "551684871.csv\n",
      "1163097367.csv\n",
      "484919468.csv\n",
      "520450653.csv\n",
      "5225477528.csv\n",
      "1562653598.csv\n",
      "868006638.csv\n",
      "5498304712.csv\n",
      "484394230.csv\n",
      "637328934.csv\n",
      "1362511637.csv\n",
      "5577945208.csv\n",
      "819307195.csv\n",
      "765770952.csv\n",
      "1283181772.csv\n",
      "860401985.csv\n",
      "6477206345.csv\n",
      "641243117.csv\n",
      "723149260.csv\n",
      "733811221.csv\n",
      "5790141925.csv\n",
      "6392267991.csv\n",
      "1727353418.csv\n",
      "5396339794.csv\n",
      "1255225960.csv\n",
      "1941654779.csv\n",
      "1557832664.csv\n",
      "1699859549.csv\n",
      "974065742.csv\n",
      "273013296.csv\n",
      "1238783191.csv\n",
      "1034553406.csv\n",
      "2102620574.csv\n",
      "1429909386.csv\n"
     ]
    },
    {
     "name": "stderr",
     "output_type": "stream",
     "text": [
      "/var/folders/6j/s19nhfjj4pv14vny7nrq8lf00000gn/T/ipykernel_17466/917114956.py:4: ParserWarning: Falling back to the 'python' engine because the 'c' engine does not support regex separators (separators > 1 char and different from '\\s+' are interpreted as regex); you can avoid this warning by specifying engine='python'.\n",
      "  temp_df = pd.read_csv(mypath+'/'+ onlyfiles[i], sep=';|,')\n",
      "/var/folders/6j/s19nhfjj4pv14vny7nrq8lf00000gn/T/ipykernel_17466/917114956.py:4: ParserWarning: Falling back to the 'python' engine because the 'c' engine does not support regex separators (separators > 1 char and different from '\\s+' are interpreted as regex); you can avoid this warning by specifying engine='python'.\n",
      "  temp_df = pd.read_csv(mypath+'/'+ onlyfiles[i], sep=';|,')\n",
      "/var/folders/6j/s19nhfjj4pv14vny7nrq8lf00000gn/T/ipykernel_17466/917114956.py:4: ParserWarning: Falling back to the 'python' engine because the 'c' engine does not support regex separators (separators > 1 char and different from '\\s+' are interpreted as regex); you can avoid this warning by specifying engine='python'.\n",
      "  temp_df = pd.read_csv(mypath+'/'+ onlyfiles[i], sep=';|,')\n",
      "/var/folders/6j/s19nhfjj4pv14vny7nrq8lf00000gn/T/ipykernel_17466/917114956.py:4: ParserWarning: Falling back to the 'python' engine because the 'c' engine does not support regex separators (separators > 1 char and different from '\\s+' are interpreted as regex); you can avoid this warning by specifying engine='python'.\n",
      "  temp_df = pd.read_csv(mypath+'/'+ onlyfiles[i], sep=';|,')\n",
      "/var/folders/6j/s19nhfjj4pv14vny7nrq8lf00000gn/T/ipykernel_17466/917114956.py:4: ParserWarning: Falling back to the 'python' engine because the 'c' engine does not support regex separators (separators > 1 char and different from '\\s+' are interpreted as regex); you can avoid this warning by specifying engine='python'.\n",
      "  temp_df = pd.read_csv(mypath+'/'+ onlyfiles[i], sep=';|,')\n",
      "/var/folders/6j/s19nhfjj4pv14vny7nrq8lf00000gn/T/ipykernel_17466/917114956.py:4: ParserWarning: Falling back to the 'python' engine because the 'c' engine does not support regex separators (separators > 1 char and different from '\\s+' are interpreted as regex); you can avoid this warning by specifying engine='python'.\n",
      "  temp_df = pd.read_csv(mypath+'/'+ onlyfiles[i], sep=';|,')\n",
      "/var/folders/6j/s19nhfjj4pv14vny7nrq8lf00000gn/T/ipykernel_17466/917114956.py:4: ParserWarning: Falling back to the 'python' engine because the 'c' engine does not support regex separators (separators > 1 char and different from '\\s+' are interpreted as regex); you can avoid this warning by specifying engine='python'.\n",
      "  temp_df = pd.read_csv(mypath+'/'+ onlyfiles[i], sep=';|,')\n",
      "/var/folders/6j/s19nhfjj4pv14vny7nrq8lf00000gn/T/ipykernel_17466/917114956.py:4: ParserWarning: Falling back to the 'python' engine because the 'c' engine does not support regex separators (separators > 1 char and different from '\\s+' are interpreted as regex); you can avoid this warning by specifying engine='python'.\n",
      "  temp_df = pd.read_csv(mypath+'/'+ onlyfiles[i], sep=';|,')\n",
      "/var/folders/6j/s19nhfjj4pv14vny7nrq8lf00000gn/T/ipykernel_17466/917114956.py:4: ParserWarning: Falling back to the 'python' engine because the 'c' engine does not support regex separators (separators > 1 char and different from '\\s+' are interpreted as regex); you can avoid this warning by specifying engine='python'.\n",
      "  temp_df = pd.read_csv(mypath+'/'+ onlyfiles[i], sep=';|,')\n",
      "/var/folders/6j/s19nhfjj4pv14vny7nrq8lf00000gn/T/ipykernel_17466/917114956.py:4: ParserWarning: Falling back to the 'python' engine because the 'c' engine does not support regex separators (separators > 1 char and different from '\\s+' are interpreted as regex); you can avoid this warning by specifying engine='python'.\n",
      "  temp_df = pd.read_csv(mypath+'/'+ onlyfiles[i], sep=';|,')\n",
      "/var/folders/6j/s19nhfjj4pv14vny7nrq8lf00000gn/T/ipykernel_17466/917114956.py:4: ParserWarning: Falling back to the 'python' engine because the 'c' engine does not support regex separators (separators > 1 char and different from '\\s+' are interpreted as regex); you can avoid this warning by specifying engine='python'.\n",
      "  temp_df = pd.read_csv(mypath+'/'+ onlyfiles[i], sep=';|,')\n",
      "/var/folders/6j/s19nhfjj4pv14vny7nrq8lf00000gn/T/ipykernel_17466/917114956.py:4: ParserWarning: Falling back to the 'python' engine because the 'c' engine does not support regex separators (separators > 1 char and different from '\\s+' are interpreted as regex); you can avoid this warning by specifying engine='python'.\n",
      "  temp_df = pd.read_csv(mypath+'/'+ onlyfiles[i], sep=';|,')\n",
      "/var/folders/6j/s19nhfjj4pv14vny7nrq8lf00000gn/T/ipykernel_17466/917114956.py:4: ParserWarning: Falling back to the 'python' engine because the 'c' engine does not support regex separators (separators > 1 char and different from '\\s+' are interpreted as regex); you can avoid this warning by specifying engine='python'.\n",
      "  temp_df = pd.read_csv(mypath+'/'+ onlyfiles[i], sep=';|,')\n",
      "/var/folders/6j/s19nhfjj4pv14vny7nrq8lf00000gn/T/ipykernel_17466/917114956.py:4: ParserWarning: Falling back to the 'python' engine because the 'c' engine does not support regex separators (separators > 1 char and different from '\\s+' are interpreted as regex); you can avoid this warning by specifying engine='python'.\n",
      "  temp_df = pd.read_csv(mypath+'/'+ onlyfiles[i], sep=';|,')\n",
      "/var/folders/6j/s19nhfjj4pv14vny7nrq8lf00000gn/T/ipykernel_17466/917114956.py:4: ParserWarning: Falling back to the 'python' engine because the 'c' engine does not support regex separators (separators > 1 char and different from '\\s+' are interpreted as regex); you can avoid this warning by specifying engine='python'.\n",
      "  temp_df = pd.read_csv(mypath+'/'+ onlyfiles[i], sep=';|,')\n",
      "/var/folders/6j/s19nhfjj4pv14vny7nrq8lf00000gn/T/ipykernel_17466/917114956.py:4: ParserWarning: Falling back to the 'python' engine because the 'c' engine does not support regex separators (separators > 1 char and different from '\\s+' are interpreted as regex); you can avoid this warning by specifying engine='python'.\n",
      "  temp_df = pd.read_csv(mypath+'/'+ onlyfiles[i], sep=';|,')\n",
      "/var/folders/6j/s19nhfjj4pv14vny7nrq8lf00000gn/T/ipykernel_17466/917114956.py:4: ParserWarning: Falling back to the 'python' engine because the 'c' engine does not support regex separators (separators > 1 char and different from '\\s+' are interpreted as regex); you can avoid this warning by specifying engine='python'.\n",
      "  temp_df = pd.read_csv(mypath+'/'+ onlyfiles[i], sep=';|,')\n",
      "/var/folders/6j/s19nhfjj4pv14vny7nrq8lf00000gn/T/ipykernel_17466/917114956.py:4: ParserWarning: Falling back to the 'python' engine because the 'c' engine does not support regex separators (separators > 1 char and different from '\\s+' are interpreted as regex); you can avoid this warning by specifying engine='python'.\n",
      "  temp_df = pd.read_csv(mypath+'/'+ onlyfiles[i], sep=';|,')\n",
      "/var/folders/6j/s19nhfjj4pv14vny7nrq8lf00000gn/T/ipykernel_17466/917114956.py:4: ParserWarning: Falling back to the 'python' engine because the 'c' engine does not support regex separators (separators > 1 char and different from '\\s+' are interpreted as regex); you can avoid this warning by specifying engine='python'.\n",
      "  temp_df = pd.read_csv(mypath+'/'+ onlyfiles[i], sep=';|,')\n",
      "/var/folders/6j/s19nhfjj4pv14vny7nrq8lf00000gn/T/ipykernel_17466/917114956.py:4: ParserWarning: Falling back to the 'python' engine because the 'c' engine does not support regex separators (separators > 1 char and different from '\\s+' are interpreted as regex); you can avoid this warning by specifying engine='python'.\n",
      "  temp_df = pd.read_csv(mypath+'/'+ onlyfiles[i], sep=';|,')\n",
      "/var/folders/6j/s19nhfjj4pv14vny7nrq8lf00000gn/T/ipykernel_17466/917114956.py:4: ParserWarning: Falling back to the 'python' engine because the 'c' engine does not support regex separators (separators > 1 char and different from '\\s+' are interpreted as regex); you can avoid this warning by specifying engine='python'.\n",
      "  temp_df = pd.read_csv(mypath+'/'+ onlyfiles[i], sep=';|,')\n",
      "/var/folders/6j/s19nhfjj4pv14vny7nrq8lf00000gn/T/ipykernel_17466/917114956.py:4: ParserWarning: Falling back to the 'python' engine because the 'c' engine does not support regex separators (separators > 1 char and different from '\\s+' are interpreted as regex); you can avoid this warning by specifying engine='python'.\n",
      "  temp_df = pd.read_csv(mypath+'/'+ onlyfiles[i], sep=';|,')\n",
      "/var/folders/6j/s19nhfjj4pv14vny7nrq8lf00000gn/T/ipykernel_17466/917114956.py:4: ParserWarning: Falling back to the 'python' engine because the 'c' engine does not support regex separators (separators > 1 char and different from '\\s+' are interpreted as regex); you can avoid this warning by specifying engine='python'.\n",
      "  temp_df = pd.read_csv(mypath+'/'+ onlyfiles[i], sep=';|,')\n",
      "/var/folders/6j/s19nhfjj4pv14vny7nrq8lf00000gn/T/ipykernel_17466/917114956.py:4: ParserWarning: Falling back to the 'python' engine because the 'c' engine does not support regex separators (separators > 1 char and different from '\\s+' are interpreted as regex); you can avoid this warning by specifying engine='python'.\n",
      "  temp_df = pd.read_csv(mypath+'/'+ onlyfiles[i], sep=';|,')\n",
      "/var/folders/6j/s19nhfjj4pv14vny7nrq8lf00000gn/T/ipykernel_17466/917114956.py:4: ParserWarning: Falling back to the 'python' engine because the 'c' engine does not support regex separators (separators > 1 char and different from '\\s+' are interpreted as regex); you can avoid this warning by specifying engine='python'.\n",
      "  temp_df = pd.read_csv(mypath+'/'+ onlyfiles[i], sep=';|,')\n",
      "/var/folders/6j/s19nhfjj4pv14vny7nrq8lf00000gn/T/ipykernel_17466/917114956.py:4: ParserWarning: Falling back to the 'python' engine because the 'c' engine does not support regex separators (separators > 1 char and different from '\\s+' are interpreted as regex); you can avoid this warning by specifying engine='python'.\n",
      "  temp_df = pd.read_csv(mypath+'/'+ onlyfiles[i], sep=';|,')\n",
      "/var/folders/6j/s19nhfjj4pv14vny7nrq8lf00000gn/T/ipykernel_17466/917114956.py:4: ParserWarning: Falling back to the 'python' engine because the 'c' engine does not support regex separators (separators > 1 char and different from '\\s+' are interpreted as regex); you can avoid this warning by specifying engine='python'.\n",
      "  temp_df = pd.read_csv(mypath+'/'+ onlyfiles[i], sep=';|,')\n",
      "/var/folders/6j/s19nhfjj4pv14vny7nrq8lf00000gn/T/ipykernel_17466/917114956.py:4: ParserWarning: Falling back to the 'python' engine because the 'c' engine does not support regex separators (separators > 1 char and different from '\\s+' are interpreted as regex); you can avoid this warning by specifying engine='python'.\n",
      "  temp_df = pd.read_csv(mypath+'/'+ onlyfiles[i], sep=';|,')\n",
      "/var/folders/6j/s19nhfjj4pv14vny7nrq8lf00000gn/T/ipykernel_17466/917114956.py:4: ParserWarning: Falling back to the 'python' engine because the 'c' engine does not support regex separators (separators > 1 char and different from '\\s+' are interpreted as regex); you can avoid this warning by specifying engine='python'.\n",
      "  temp_df = pd.read_csv(mypath+'/'+ onlyfiles[i], sep=';|,')\n",
      "/var/folders/6j/s19nhfjj4pv14vny7nrq8lf00000gn/T/ipykernel_17466/917114956.py:4: ParserWarning: Falling back to the 'python' engine because the 'c' engine does not support regex separators (separators > 1 char and different from '\\s+' are interpreted as regex); you can avoid this warning by specifying engine='python'.\n",
      "  temp_df = pd.read_csv(mypath+'/'+ onlyfiles[i], sep=';|,')\n",
      "/var/folders/6j/s19nhfjj4pv14vny7nrq8lf00000gn/T/ipykernel_17466/917114956.py:4: ParserWarning: Falling back to the 'python' engine because the 'c' engine does not support regex separators (separators > 1 char and different from '\\s+' are interpreted as regex); you can avoid this warning by specifying engine='python'.\n",
      "  temp_df = pd.read_csv(mypath+'/'+ onlyfiles[i], sep=';|,')\n",
      "/var/folders/6j/s19nhfjj4pv14vny7nrq8lf00000gn/T/ipykernel_17466/917114956.py:4: ParserWarning: Falling back to the 'python' engine because the 'c' engine does not support regex separators (separators > 1 char and different from '\\s+' are interpreted as regex); you can avoid this warning by specifying engine='python'.\n",
      "  temp_df = pd.read_csv(mypath+'/'+ onlyfiles[i], sep=';|,')\n",
      "/var/folders/6j/s19nhfjj4pv14vny7nrq8lf00000gn/T/ipykernel_17466/917114956.py:4: ParserWarning: Falling back to the 'python' engine because the 'c' engine does not support regex separators (separators > 1 char and different from '\\s+' are interpreted as regex); you can avoid this warning by specifying engine='python'.\n",
      "  temp_df = pd.read_csv(mypath+'/'+ onlyfiles[i], sep=';|,')\n",
      "/var/folders/6j/s19nhfjj4pv14vny7nrq8lf00000gn/T/ipykernel_17466/917114956.py:4: ParserWarning: Falling back to the 'python' engine because the 'c' engine does not support regex separators (separators > 1 char and different from '\\s+' are interpreted as regex); you can avoid this warning by specifying engine='python'.\n",
      "  temp_df = pd.read_csv(mypath+'/'+ onlyfiles[i], sep=';|,')\n",
      "/var/folders/6j/s19nhfjj4pv14vny7nrq8lf00000gn/T/ipykernel_17466/917114956.py:4: ParserWarning: Falling back to the 'python' engine because the 'c' engine does not support regex separators (separators > 1 char and different from '\\s+' are interpreted as regex); you can avoid this warning by specifying engine='python'.\n",
      "  temp_df = pd.read_csv(mypath+'/'+ onlyfiles[i], sep=';|,')\n",
      "/var/folders/6j/s19nhfjj4pv14vny7nrq8lf00000gn/T/ipykernel_17466/917114956.py:4: ParserWarning: Falling back to the 'python' engine because the 'c' engine does not support regex separators (separators > 1 char and different from '\\s+' are interpreted as regex); you can avoid this warning by specifying engine='python'.\n",
      "  temp_df = pd.read_csv(mypath+'/'+ onlyfiles[i], sep=';|,')\n",
      "/var/folders/6j/s19nhfjj4pv14vny7nrq8lf00000gn/T/ipykernel_17466/917114956.py:4: ParserWarning: Falling back to the 'python' engine because the 'c' engine does not support regex separators (separators > 1 char and different from '\\s+' are interpreted as regex); you can avoid this warning by specifying engine='python'.\n",
      "  temp_df = pd.read_csv(mypath+'/'+ onlyfiles[i], sep=';|,')\n",
      "/var/folders/6j/s19nhfjj4pv14vny7nrq8lf00000gn/T/ipykernel_17466/917114956.py:4: ParserWarning: Falling back to the 'python' engine because the 'c' engine does not support regex separators (separators > 1 char and different from '\\s+' are interpreted as regex); you can avoid this warning by specifying engine='python'.\n",
      "  temp_df = pd.read_csv(mypath+'/'+ onlyfiles[i], sep=';|,')\n",
      "/var/folders/6j/s19nhfjj4pv14vny7nrq8lf00000gn/T/ipykernel_17466/917114956.py:4: ParserWarning: Falling back to the 'python' engine because the 'c' engine does not support regex separators (separators > 1 char and different from '\\s+' are interpreted as regex); you can avoid this warning by specifying engine='python'.\n",
      "  temp_df = pd.read_csv(mypath+'/'+ onlyfiles[i], sep=';|,')\n",
      "/var/folders/6j/s19nhfjj4pv14vny7nrq8lf00000gn/T/ipykernel_17466/917114956.py:4: ParserWarning: Falling back to the 'python' engine because the 'c' engine does not support regex separators (separators > 1 char and different from '\\s+' are interpreted as regex); you can avoid this warning by specifying engine='python'.\n",
      "  temp_df = pd.read_csv(mypath+'/'+ onlyfiles[i], sep=';|,')\n",
      "/var/folders/6j/s19nhfjj4pv14vny7nrq8lf00000gn/T/ipykernel_17466/917114956.py:4: ParserWarning: Falling back to the 'python' engine because the 'c' engine does not support regex separators (separators > 1 char and different from '\\s+' are interpreted as regex); you can avoid this warning by specifying engine='python'.\n",
      "  temp_df = pd.read_csv(mypath+'/'+ onlyfiles[i], sep=';|,')\n",
      "/var/folders/6j/s19nhfjj4pv14vny7nrq8lf00000gn/T/ipykernel_17466/917114956.py:4: ParserWarning: Falling back to the 'python' engine because the 'c' engine does not support regex separators (separators > 1 char and different from '\\s+' are interpreted as regex); you can avoid this warning by specifying engine='python'.\n",
      "  temp_df = pd.read_csv(mypath+'/'+ onlyfiles[i], sep=';|,')\n",
      "/var/folders/6j/s19nhfjj4pv14vny7nrq8lf00000gn/T/ipykernel_17466/917114956.py:4: ParserWarning: Falling back to the 'python' engine because the 'c' engine does not support regex separators (separators > 1 char and different from '\\s+' are interpreted as regex); you can avoid this warning by specifying engine='python'.\n",
      "  temp_df = pd.read_csv(mypath+'/'+ onlyfiles[i], sep=';|,')\n",
      "/var/folders/6j/s19nhfjj4pv14vny7nrq8lf00000gn/T/ipykernel_17466/917114956.py:4: ParserWarning: Falling back to the 'python' engine because the 'c' engine does not support regex separators (separators > 1 char and different from '\\s+' are interpreted as regex); you can avoid this warning by specifying engine='python'.\n",
      "  temp_df = pd.read_csv(mypath+'/'+ onlyfiles[i], sep=';|,')\n",
      "/var/folders/6j/s19nhfjj4pv14vny7nrq8lf00000gn/T/ipykernel_17466/917114956.py:4: ParserWarning: Falling back to the 'python' engine because the 'c' engine does not support regex separators (separators > 1 char and different from '\\s+' are interpreted as regex); you can avoid this warning by specifying engine='python'.\n",
      "  temp_df = pd.read_csv(mypath+'/'+ onlyfiles[i], sep=';|,')\n",
      "/var/folders/6j/s19nhfjj4pv14vny7nrq8lf00000gn/T/ipykernel_17466/917114956.py:4: ParserWarning: Falling back to the 'python' engine because the 'c' engine does not support regex separators (separators > 1 char and different from '\\s+' are interpreted as regex); you can avoid this warning by specifying engine='python'.\n",
      "  temp_df = pd.read_csv(mypath+'/'+ onlyfiles[i], sep=';|,')\n",
      "/var/folders/6j/s19nhfjj4pv14vny7nrq8lf00000gn/T/ipykernel_17466/917114956.py:4: ParserWarning: Falling back to the 'python' engine because the 'c' engine does not support regex separators (separators > 1 char and different from '\\s+' are interpreted as regex); you can avoid this warning by specifying engine='python'.\n",
      "  temp_df = pd.read_csv(mypath+'/'+ onlyfiles[i], sep=';|,')\n",
      "/var/folders/6j/s19nhfjj4pv14vny7nrq8lf00000gn/T/ipykernel_17466/917114956.py:4: ParserWarning: Falling back to the 'python' engine because the 'c' engine does not support regex separators (separators > 1 char and different from '\\s+' are interpreted as regex); you can avoid this warning by specifying engine='python'.\n",
      "  temp_df = pd.read_csv(mypath+'/'+ onlyfiles[i], sep=';|,')\n",
      "/var/folders/6j/s19nhfjj4pv14vny7nrq8lf00000gn/T/ipykernel_17466/917114956.py:4: ParserWarning: Falling back to the 'python' engine because the 'c' engine does not support regex separators (separators > 1 char and different from '\\s+' are interpreted as regex); you can avoid this warning by specifying engine='python'.\n",
      "  temp_df = pd.read_csv(mypath+'/'+ onlyfiles[i], sep=';|,')\n",
      "/var/folders/6j/s19nhfjj4pv14vny7nrq8lf00000gn/T/ipykernel_17466/917114956.py:4: ParserWarning: Falling back to the 'python' engine because the 'c' engine does not support regex separators (separators > 1 char and different from '\\s+' are interpreted as regex); you can avoid this warning by specifying engine='python'.\n",
      "  temp_df = pd.read_csv(mypath+'/'+ onlyfiles[i], sep=';|,')\n",
      "/var/folders/6j/s19nhfjj4pv14vny7nrq8lf00000gn/T/ipykernel_17466/917114956.py:4: ParserWarning: Falling back to the 'python' engine because the 'c' engine does not support regex separators (separators > 1 char and different from '\\s+' are interpreted as regex); you can avoid this warning by specifying engine='python'.\n",
      "  temp_df = pd.read_csv(mypath+'/'+ onlyfiles[i], sep=';|,')\n",
      "/var/folders/6j/s19nhfjj4pv14vny7nrq8lf00000gn/T/ipykernel_17466/917114956.py:4: ParserWarning: Falling back to the 'python' engine because the 'c' engine does not support regex separators (separators > 1 char and different from '\\s+' are interpreted as regex); you can avoid this warning by specifying engine='python'.\n",
      "  temp_df = pd.read_csv(mypath+'/'+ onlyfiles[i], sep=';|,')\n",
      "/var/folders/6j/s19nhfjj4pv14vny7nrq8lf00000gn/T/ipykernel_17466/917114956.py:4: ParserWarning: Falling back to the 'python' engine because the 'c' engine does not support regex separators (separators > 1 char and different from '\\s+' are interpreted as regex); you can avoid this warning by specifying engine='python'.\n",
      "  temp_df = pd.read_csv(mypath+'/'+ onlyfiles[i], sep=';|,')\n",
      "/var/folders/6j/s19nhfjj4pv14vny7nrq8lf00000gn/T/ipykernel_17466/917114956.py:4: ParserWarning: Falling back to the 'python' engine because the 'c' engine does not support regex separators (separators > 1 char and different from '\\s+' are interpreted as regex); you can avoid this warning by specifying engine='python'.\n",
      "  temp_df = pd.read_csv(mypath+'/'+ onlyfiles[i], sep=';|,')\n",
      "/var/folders/6j/s19nhfjj4pv14vny7nrq8lf00000gn/T/ipykernel_17466/917114956.py:4: ParserWarning: Falling back to the 'python' engine because the 'c' engine does not support regex separators (separators > 1 char and different from '\\s+' are interpreted as regex); you can avoid this warning by specifying engine='python'.\n",
      "  temp_df = pd.read_csv(mypath+'/'+ onlyfiles[i], sep=';|,')\n",
      "/var/folders/6j/s19nhfjj4pv14vny7nrq8lf00000gn/T/ipykernel_17466/917114956.py:4: ParserWarning: Falling back to the 'python' engine because the 'c' engine does not support regex separators (separators > 1 char and different from '\\s+' are interpreted as regex); you can avoid this warning by specifying engine='python'.\n",
      "  temp_df = pd.read_csv(mypath+'/'+ onlyfiles[i], sep=';|,')\n",
      "/var/folders/6j/s19nhfjj4pv14vny7nrq8lf00000gn/T/ipykernel_17466/917114956.py:4: ParserWarning: Falling back to the 'python' engine because the 'c' engine does not support regex separators (separators > 1 char and different from '\\s+' are interpreted as regex); you can avoid this warning by specifying engine='python'.\n",
      "  temp_df = pd.read_csv(mypath+'/'+ onlyfiles[i], sep=';|,')\n",
      "/var/folders/6j/s19nhfjj4pv14vny7nrq8lf00000gn/T/ipykernel_17466/917114956.py:4: ParserWarning: Falling back to the 'python' engine because the 'c' engine does not support regex separators (separators > 1 char and different from '\\s+' are interpreted as regex); you can avoid this warning by specifying engine='python'.\n",
      "  temp_df = pd.read_csv(mypath+'/'+ onlyfiles[i], sep=';|,')\n",
      "/var/folders/6j/s19nhfjj4pv14vny7nrq8lf00000gn/T/ipykernel_17466/917114956.py:4: ParserWarning: Falling back to the 'python' engine because the 'c' engine does not support regex separators (separators > 1 char and different from '\\s+' are interpreted as regex); you can avoid this warning by specifying engine='python'.\n",
      "  temp_df = pd.read_csv(mypath+'/'+ onlyfiles[i], sep=';|,')\n",
      "/var/folders/6j/s19nhfjj4pv14vny7nrq8lf00000gn/T/ipykernel_17466/917114956.py:4: ParserWarning: Falling back to the 'python' engine because the 'c' engine does not support regex separators (separators > 1 char and different from '\\s+' are interpreted as regex); you can avoid this warning by specifying engine='python'.\n",
      "  temp_df = pd.read_csv(mypath+'/'+ onlyfiles[i], sep=';|,')\n",
      "/var/folders/6j/s19nhfjj4pv14vny7nrq8lf00000gn/T/ipykernel_17466/917114956.py:4: ParserWarning: Falling back to the 'python' engine because the 'c' engine does not support regex separators (separators > 1 char and different from '\\s+' are interpreted as regex); you can avoid this warning by specifying engine='python'.\n",
      "  temp_df = pd.read_csv(mypath+'/'+ onlyfiles[i], sep=';|,')\n",
      "/var/folders/6j/s19nhfjj4pv14vny7nrq8lf00000gn/T/ipykernel_17466/917114956.py:4: ParserWarning: Falling back to the 'python' engine because the 'c' engine does not support regex separators (separators > 1 char and different from '\\s+' are interpreted as regex); you can avoid this warning by specifying engine='python'.\n",
      "  temp_df = pd.read_csv(mypath+'/'+ onlyfiles[i], sep=';|,')\n",
      "/var/folders/6j/s19nhfjj4pv14vny7nrq8lf00000gn/T/ipykernel_17466/917114956.py:4: ParserWarning: Falling back to the 'python' engine because the 'c' engine does not support regex separators (separators > 1 char and different from '\\s+' are interpreted as regex); you can avoid this warning by specifying engine='python'.\n",
      "  temp_df = pd.read_csv(mypath+'/'+ onlyfiles[i], sep=';|,')\n"
     ]
    }
   ],
   "source": [
    "data_frames = []\n",
    "for i, fname in enumerate(onlyfiles):\n",
    "    print(fname)\n",
    "    temp_df = pd.read_csv(mypath+'/'+ onlyfiles[i], sep=';|,')\n",
    "    temp_df['user'] = [fname[:9]]*len(temp_df['points'])\n",
    "    data_frames.append(temp_df)"
   ],
   "metadata": {
    "collapsed": false
   }
  },
  {
   "cell_type": "code",
   "execution_count": 64,
   "outputs": [
    {
     "data": {
      "text/plain": "      task_id  real_points real_time  points  attempts       user\n0          19            1       1-5       6         1  510336337\n1          20            1        <1       6         1  510336337\n2          22            1        <1       6         2  510336337\n3          23            1        <1       6         1  510336337\n4          24            1        <1       6         1  510336337\n...       ...          ...       ...     ...       ...        ...\n1258       25            1        <1       6         1  142990938\n1259       26            1        <1       6         1  142990938\n1260       30            1        <1       6         1  142990938\n1261       31            2       1-5       6         2  142990938\n1262       32            2        <1       6         1  142990938\n\n[1263 rows x 6 columns]",
      "text/html": "<div>\n<style scoped>\n    .dataframe tbody tr th:only-of-type {\n        vertical-align: middle;\n    }\n\n    .dataframe tbody tr th {\n        vertical-align: top;\n    }\n\n    .dataframe thead th {\n        text-align: right;\n    }\n</style>\n<table border=\"1\" class=\"dataframe\">\n  <thead>\n    <tr style=\"text-align: right;\">\n      <th></th>\n      <th>task_id</th>\n      <th>real_points</th>\n      <th>real_time</th>\n      <th>points</th>\n      <th>attempts</th>\n      <th>user</th>\n    </tr>\n  </thead>\n  <tbody>\n    <tr>\n      <th>0</th>\n      <td>19</td>\n      <td>1</td>\n      <td>1-5</td>\n      <td>6</td>\n      <td>1</td>\n      <td>510336337</td>\n    </tr>\n    <tr>\n      <th>1</th>\n      <td>20</td>\n      <td>1</td>\n      <td>&lt;1</td>\n      <td>6</td>\n      <td>1</td>\n      <td>510336337</td>\n    </tr>\n    <tr>\n      <th>2</th>\n      <td>22</td>\n      <td>1</td>\n      <td>&lt;1</td>\n      <td>6</td>\n      <td>2</td>\n      <td>510336337</td>\n    </tr>\n    <tr>\n      <th>3</th>\n      <td>23</td>\n      <td>1</td>\n      <td>&lt;1</td>\n      <td>6</td>\n      <td>1</td>\n      <td>510336337</td>\n    </tr>\n    <tr>\n      <th>4</th>\n      <td>24</td>\n      <td>1</td>\n      <td>&lt;1</td>\n      <td>6</td>\n      <td>1</td>\n      <td>510336337</td>\n    </tr>\n    <tr>\n      <th>...</th>\n      <td>...</td>\n      <td>...</td>\n      <td>...</td>\n      <td>...</td>\n      <td>...</td>\n      <td>...</td>\n    </tr>\n    <tr>\n      <th>1258</th>\n      <td>25</td>\n      <td>1</td>\n      <td>&lt;1</td>\n      <td>6</td>\n      <td>1</td>\n      <td>142990938</td>\n    </tr>\n    <tr>\n      <th>1259</th>\n      <td>26</td>\n      <td>1</td>\n      <td>&lt;1</td>\n      <td>6</td>\n      <td>1</td>\n      <td>142990938</td>\n    </tr>\n    <tr>\n      <th>1260</th>\n      <td>30</td>\n      <td>1</td>\n      <td>&lt;1</td>\n      <td>6</td>\n      <td>1</td>\n      <td>142990938</td>\n    </tr>\n    <tr>\n      <th>1261</th>\n      <td>31</td>\n      <td>2</td>\n      <td>1-5</td>\n      <td>6</td>\n      <td>2</td>\n      <td>142990938</td>\n    </tr>\n    <tr>\n      <th>1262</th>\n      <td>32</td>\n      <td>2</td>\n      <td>&lt;1</td>\n      <td>6</td>\n      <td>1</td>\n      <td>142990938</td>\n    </tr>\n  </tbody>\n</table>\n<p>1263 rows × 6 columns</p>\n</div>"
     },
     "execution_count": 64,
     "metadata": {},
     "output_type": "execute_result"
    }
   ],
   "source": [
    "df_append = pd.DataFrame()\n",
    "#append all files together\n",
    "for dframe in data_frames:\n",
    "    df_append = pd.concat([df_append, dframe], ignore_index=True)\n",
    "df_append"
   ],
   "metadata": {
    "collapsed": false
   }
  },
  {
   "cell_type": "code",
   "execution_count": 66,
   "outputs": [
    {
     "data": {
      "text/plain": "      task_id  real_points  real_time  points  attempts       user\n0          19            1          1       6         1  510336337\n1          20            1          0       6         1  510336337\n2          22            1          0       6         2  510336337\n3          23            1          0       6         1  510336337\n4          24            1          0       6         1  510336337\n...       ...          ...        ...     ...       ...        ...\n1258       25            1          0       6         1  142990938\n1259       26            1          0       6         1  142990938\n1260       30            1          0       6         1  142990938\n1261       31            2          1       6         2  142990938\n1262       32            2          0       6         1  142990938\n\n[1263 rows x 6 columns]",
      "text/html": "<div>\n<style scoped>\n    .dataframe tbody tr th:only-of-type {\n        vertical-align: middle;\n    }\n\n    .dataframe tbody tr th {\n        vertical-align: top;\n    }\n\n    .dataframe thead th {\n        text-align: right;\n    }\n</style>\n<table border=\"1\" class=\"dataframe\">\n  <thead>\n    <tr style=\"text-align: right;\">\n      <th></th>\n      <th>task_id</th>\n      <th>real_points</th>\n      <th>real_time</th>\n      <th>points</th>\n      <th>attempts</th>\n      <th>user</th>\n    </tr>\n  </thead>\n  <tbody>\n    <tr>\n      <th>0</th>\n      <td>19</td>\n      <td>1</td>\n      <td>1</td>\n      <td>6</td>\n      <td>1</td>\n      <td>510336337</td>\n    </tr>\n    <tr>\n      <th>1</th>\n      <td>20</td>\n      <td>1</td>\n      <td>0</td>\n      <td>6</td>\n      <td>1</td>\n      <td>510336337</td>\n    </tr>\n    <tr>\n      <th>2</th>\n      <td>22</td>\n      <td>1</td>\n      <td>0</td>\n      <td>6</td>\n      <td>2</td>\n      <td>510336337</td>\n    </tr>\n    <tr>\n      <th>3</th>\n      <td>23</td>\n      <td>1</td>\n      <td>0</td>\n      <td>6</td>\n      <td>1</td>\n      <td>510336337</td>\n    </tr>\n    <tr>\n      <th>4</th>\n      <td>24</td>\n      <td>1</td>\n      <td>0</td>\n      <td>6</td>\n      <td>1</td>\n      <td>510336337</td>\n    </tr>\n    <tr>\n      <th>...</th>\n      <td>...</td>\n      <td>...</td>\n      <td>...</td>\n      <td>...</td>\n      <td>...</td>\n      <td>...</td>\n    </tr>\n    <tr>\n      <th>1258</th>\n      <td>25</td>\n      <td>1</td>\n      <td>0</td>\n      <td>6</td>\n      <td>1</td>\n      <td>142990938</td>\n    </tr>\n    <tr>\n      <th>1259</th>\n      <td>26</td>\n      <td>1</td>\n      <td>0</td>\n      <td>6</td>\n      <td>1</td>\n      <td>142990938</td>\n    </tr>\n    <tr>\n      <th>1260</th>\n      <td>30</td>\n      <td>1</td>\n      <td>0</td>\n      <td>6</td>\n      <td>1</td>\n      <td>142990938</td>\n    </tr>\n    <tr>\n      <th>1261</th>\n      <td>31</td>\n      <td>2</td>\n      <td>1</td>\n      <td>6</td>\n      <td>2</td>\n      <td>142990938</td>\n    </tr>\n    <tr>\n      <th>1262</th>\n      <td>32</td>\n      <td>2</td>\n      <td>0</td>\n      <td>6</td>\n      <td>1</td>\n      <td>142990938</td>\n    </tr>\n  </tbody>\n</table>\n<p>1263 rows × 6 columns</p>\n</div>"
     },
     "execution_count": 66,
     "metadata": {},
     "output_type": "execute_result"
    }
   ],
   "source": [
    "from sklearn.preprocessing import LabelEncoder\n",
    "\n",
    "real_time_dict = {'<1':0, '1-5':1, '5-15':2, '15-30':3, '30-60':4, '60-90':5, '90-120':6, '120+':7}\n",
    "\n",
    "rt_column = []\n",
    "for real_time_row in df_append['real_time']:\n",
    "    rt_column.append(real_time_dict[str(real_time_row)])\n",
    "\n",
    "\n",
    "# le = LabelEncoder()\n",
    "df_append['real_time'] = rt_column\n",
    "df_append"
   ],
   "metadata": {
    "collapsed": false
   }
  },
  {
   "cell_type": "code",
   "execution_count": 67,
   "outputs": [],
   "source": [
    "df_append.to_csv('datasets/task_complexity_processed.csv')"
   ],
   "metadata": {
    "collapsed": false
   }
  },
  {
   "cell_type": "markdown",
   "source": [
    "# Dataset generation"
   ],
   "metadata": {
    "collapsed": false
   }
  },
  {
   "cell_type": "markdown",
   "source": [
    "Grouping all csv tables in one"
   ],
   "metadata": {
    "collapsed": false
   }
  },
  {
   "cell_type": "code",
   "execution_count": null,
   "outputs": [],
   "source": [
    "import os\n",
    "import numpy as np\n",
    "import pandas as pd"
   ],
   "metadata": {
    "collapsed": false
   }
  },
  {
   "cell_type": "code",
   "execution_count": null,
   "outputs": [],
   "source": [
    "from os import listdir\n",
    "from os.path import isfile, join\n",
    "\n",
    "mypath = 'datasets/task_complexity_raw'\n",
    "onlyfiles = [f for f in listdir(mypath) if isfile(join(mypath, f))]"
   ],
   "metadata": {
    "collapsed": false
   }
  },
  {
   "cell_type": "code",
   "execution_count": null,
   "outputs": [],
   "source": [
    "onlyfiles.remove('.DS_Store')"
   ],
   "metadata": {
    "collapsed": false
   }
  },
  {
   "cell_type": "code",
   "execution_count": null,
   "outputs": [],
   "source": [
    "data_frames = []\n",
    "for i, fname in enumerate(onlyfiles):\n",
    "    print(fname)\n",
    "    temp_df = pd.read_csv(mypath+'/'+ onlyfiles[i], sep=';|,')\n",
    "    temp_df['user'] = [fname[:9]]*len(temp_df['points'])\n",
    "    data_frames.append(temp_df)"
   ],
   "metadata": {
    "collapsed": false
   }
  },
  {
   "cell_type": "code",
   "execution_count": null,
   "outputs": [],
   "source": [
    "df_append = pd.DataFrame()\n",
    "#append all files together\n",
    "for dframe in data_frames:\n",
    "    df_append = pd.concat([df_append, dframe], ignore_index=True)\n",
    "df_append"
   ],
   "metadata": {
    "collapsed": false
   }
  },
  {
   "cell_type": "code",
   "execution_count": null,
   "outputs": [],
   "source": [
    "from sklearn.preprocessing import LabelEncoder\n",
    "\n",
    "real_time_dict = {'<1':0, '1-5':1, '5-15':2, '15-30':3, '30-60':4, '60-90':5, '90-120':6, '120+':7}\n",
    "\n",
    "rt_column = []\n",
    "for real_time_row in df_append['real_time']:\n",
    "    rt_column.append(real_time_dict[str(real_time_row)])\n",
    "\n",
    "\n",
    "# le = LabelEncoder()\n",
    "df_append['real_time'] = rt_column\n",
    "df_append"
   ],
   "metadata": {
    "collapsed": false
   }
  },
  {
   "cell_type": "code",
   "execution_count": null,
   "outputs": [],
   "source": [
    "df_append.to_csv('datasets/task_complexity_processed.csv')"
   ],
   "metadata": {
    "collapsed": false
   }
  },
  {
   "cell_type": "markdown",
   "source": [
    "# Dataset generator"
   ],
   "metadata": {
    "collapsed": false
   }
  },
  {
   "cell_type": "code",
   "execution_count": 173,
   "outputs": [],
   "source": [
    "from torch.utils.data import Dataset\n",
    "\n",
    "class TasksDataset(Dataset):\n",
    "    def __init__(self, dataframe, alpha, beta):\n",
    "        self.dataframe = dataframe\n",
    "        self.alpha, self.beta = alpha, beta\n",
    "        self._preprocess()\n",
    "\n",
    "    def _preprocess(self):\n",
    "        _temp_points = []\n",
    "        for row in range(len(self.dataframe)):\n",
    "            if int(self.dataframe.iloc[row]['points']) < 5:\n",
    "                _temp_points.append(5)\n",
    "            else:\n",
    "                _temp_points.append(self.dataframe.iloc[row]['points'])\n",
    "\n",
    "        self.dataframe['points'] = _temp_points\n",
    "\n",
    "        # creating new column for task 'intelligence' by special formula\n",
    "        task_intelligence = []\n",
    "\n",
    "        for row in range(len(self.dataframe)):\n",
    "            result = (int(self.dataframe.iloc[row]['real_points'])*self.alpha + int(self.dataframe.iloc[row]['points'])*self.beta)/(self.alpha + self.beta) * (int(self.dataframe.iloc[row]['real_time']) + 1)\n",
    "            task_intelligence.append(int(np.round(result)))\n",
    "\n",
    "        self.dataframe['intelligence'] = task_intelligence\n",
    "\n",
    "        grouped_dataframe = self.dataframe.groupby(by='user')\n",
    "\n",
    "        self.task_intelligence = grouped_dataframe['intelligence'].apply(list).to_list()\n",
    "        self.complexity = grouped_dataframe['points'].apply(list).to_list()\n",
    "\n",
    "        self.pairs = []\n",
    "        for i in range(0, len(self.task_intelligence)):\n",
    "            temp_dict = {}\n",
    "            for j in range(0, len(self.task_intelligence[i])):\n",
    "                temp_dict[self.task_intelligence[i][j]] = self.complexity[i][j]\n",
    "            self.pairs.append(temp_dict.copy())\n",
    "\n",
    "        self.sorted_pairs = self._sort(self.pairs)\n",
    "\n",
    "        self.sorted_task_intelligence = [list(i.keys()) for i in self.sorted_pairs]\n",
    "        self.sorted_complexity = [list(i.values()) for i in self.sorted_pairs]\n",
    "\n",
    "    # sort each pair by task intelligence\n",
    "    def _sort(self, pairs):\n",
    "        sorted_pairs = []\n",
    "        for x in pairs:\n",
    "            myKeys = list(x.keys())\n",
    "            myKeys.sort()\n",
    "            sorted_dict = {i: x[i] for i in myKeys}\n",
    "            sorted_pairs.append(sorted_dict.copy())\n",
    "        return sorted_pairs\n",
    "\n",
    "    def _get_task_intelligence(self, index):\n",
    "        return self.sorted_task_intelligence[index]\n",
    "\n",
    "    def _get_complexity(self, index):\n",
    "        return self.sorted_complexity[index]\n",
    "\n",
    "    def __getitem__(self, index) -> tuple[list, list]:\n",
    "        return self._get_task_intelligence(index), self._get_complexity(index)\n",
    "\n",
    "    def __len__(self) -> int:\n",
    "        return len(self.task_intelligence)\n"
   ],
   "metadata": {
    "collapsed": false
   }
  },
  {
   "cell_type": "code",
   "execution_count": 174,
   "outputs": [],
   "source": [
    "dataset = TasksDataset(df_append, alpha=1, beta=1)"
   ],
   "metadata": {
    "collapsed": false
   }
  },
  {
   "cell_type": "code",
   "execution_count": 242,
   "outputs": [
    {
     "data": {
      "text/plain": "[[4, 7, 8],\n [3, 4, 7, 8, 9, 11, 15, 16, 18],\n [3, 6],\n [3, 4, 6, 7, 8, 9, 10, 14],\n [4, 8],\n [4, 7],\n [4, 18],\n [4, 7],\n [4, 7],\n [3, 4, 6, 8, 38, 60],\n [4, 7, 18],\n [16],\n [4, 7, 9],\n [4, 7, 8, 10, 11],\n [4, 7, 8],\n [4, 7],\n [6, 10, 11, 12, 14, 18, 21, 22, 24, 27, 28, 32, 34, 36, 38, 40, 50],\n [4, 7, 8, 9, 10, 12, 14, 15, 16, 32, 45],\n [4, 7],\n [13, 22],\n [7, 36],\n [4, 5, 6, 7, 8, 9, 10, 14, 18],\n [4, 7],\n [4, 7],\n [4, 7],\n [4, 6, 8, 9, 10, 11, 16],\n [4, 7, 10],\n [4, 6, 11],\n [3,\n  4,\n  6,\n  7,\n  8,\n  9,\n  10,\n  11,\n  12,\n  13,\n  14,\n  15,\n  16,\n  18,\n  20,\n  22,\n  24,\n  30,\n  36,\n  39,\n  42,\n  49,\n  56,\n  66],\n [4],\n [3, 4, 7, 8, 9, 10, 11, 14, 16, 18, 20, 21, 51, 60, 64, 68],\n [11],\n [4],\n [3, 4, 5, 6, 8, 9, 11, 12, 13, 18, 20, 21, 22],\n [4, 7],\n [4],\n [4, 6],\n [8, 14, 16, 22],\n [4, 7, 9],\n [3, 4, 6, 7, 8, 9, 10, 12, 14, 16, 20, 22, 25, 36, 48],\n [4],\n [3, 4, 7, 10, 12, 22, 28, 32, 34],\n [3, 4, 6, 7, 8, 9, 10, 11, 12, 15, 16, 18, 20, 24, 28, 60],\n [6,\n  8,\n  9,\n  10,\n  11,\n  12,\n  14,\n  15,\n  16,\n  18,\n  20,\n  21,\n  22,\n  24,\n  26,\n  27,\n  28,\n  30,\n  32,\n  34,\n  35,\n  36,\n  38,\n  40,\n  42,\n  45,\n  48,\n  50,\n  54,\n  57,\n  60,\n  66],\n [4, 7],\n [4],\n [3, 4, 8, 9, 10, 11, 15, 16, 18, 20, 21, 22, 26, 33, 34, 35, 38, 42, 48, 64],\n [3, 4, 6, 7, 8, 9, 10, 12, 14, 15, 16, 18, 20, 24, 33],\n [14, 16, 20, 52, 64],\n [3, 4],\n [3, 4, 6, 7, 8, 9, 12, 14, 18],\n [4, 7, 8],\n [3, 4, 6, 7, 8, 9, 10, 12, 14, 15, 16],\n [11, 13],\n [4],\n [4, 7],\n [3, 4, 5, 6, 8, 10],\n [4, 10],\n [11, 14, 16, 36, 64],\n [4, 7],\n [4, 9],\n [3, 4, 6, 7, 8, 9, 10, 11, 12, 13, 14, 15, 16, 18, 20, 21, 22, 28, 42, 80],\n [4, 7, 8, 9]]"
     },
     "execution_count": 242,
     "metadata": {},
     "output_type": "execute_result"
    }
   ],
   "source": [
    "dataset.sorted_task_intelligence"
   ],
   "metadata": {
    "collapsed": false
   }
  },
  {
   "cell_type": "code",
   "execution_count": 179,
   "outputs": [],
   "source": [
    "import torch\n",
    "\n",
    "batch_size = 16\n",
    "max_size = 50\n",
    "\n",
    "for i in dataset.sorted_complexity:\n",
    "    max_size = max(max_size, len(i))\n",
    "\n",
    "device = 'cuda' if torch.cuda.is_available() else 'cpu'\n",
    "\n",
    "def collate_batch(batch: list):\n",
    "\n",
    "    complexity_batch, points_batch = [], []\n",
    "    for _complexity, _points in batch:\n",
    "        _complexity_tensor = torch.Tensor(_complexity)\n",
    "        _points_tensor = torch.Tensor(_points)\n",
    "        if len(_complexity) > max_size:\n",
    "            complexity_batch.append(_complexity_tensor[:max_size])\n",
    "            points_batch.append(_points_tensor[:max_size])\n",
    "        else:\n",
    "            sent_padding = torch.Tensor([0] * (max_size - len(_complexity)))\n",
    "            tags_padding = torch.Tensor([0] * (max_size - len(_complexity)))\n",
    "\n",
    "            complexity_batch.append(torch.concat((_complexity_tensor, sent_padding)))\n",
    "            points_batch.append(torch.concat((_points_tensor, tags_padding)))\n",
    "\n",
    "    # Remember, that if we want to perform many to many mapping with our network with recurrent units,\n",
    "    # we want pass first item from all sequences as first input, thus\n",
    "    # we want to have tensor with shape (max_size, ...., batch_size)\n",
    "    return torch.stack(complexity_batch, dim=0).int().T.to(device), torch.stack(points_batch, dim=0).T.long().to(device)\n"
   ],
   "metadata": {
    "collapsed": false
   }
  },
  {
   "cell_type": "code",
   "execution_count": 180,
   "outputs": [],
   "source": [
    "val_dataloader = torch.utils.data.DataLoader(dataset=dataset, batch_size=batch_size, shuffle=False, collate_fn=collate_batch)"
   ],
   "metadata": {
    "collapsed": false
   }
  },
  {
   "cell_type": "code",
   "execution_count": 181,
   "outputs": [
    {
     "name": "stdout",
     "output_type": "stream",
     "text": [
      "torch.Size([50, 16])\n",
      "torch.Size([50, 16])\n"
     ]
    }
   ],
   "source": [
    "for batch in val_dataloader:\n",
    "    inp, out = batch\n",
    "    print(inp.shape)\n",
    "    print(out.shape)\n",
    "    break"
   ],
   "metadata": {
    "collapsed": false
   }
  },
  {
   "cell_type": "markdown",
   "source": [
    "# Model"
   ],
   "metadata": {
    "collapsed": false
   }
  },
  {
   "cell_type": "code",
   "execution_count": 185,
   "outputs": [],
   "source": [
    "import torch.nn as nn\n",
    "from torch.autograd import Variable\n",
    "import torch.nn.functional as F\n",
    "from torch.nn.utils.rnn import pack_padded_sequence, pad_packed_sequence\n",
    "\n",
    "\n",
    "class POSTagger(nn.Module):\n",
    "    def __init__(self,\n",
    "                 input_dim,\n",
    "                 embedding_dim,\n",
    "                 hidden_dim,\n",
    "                 output_dim,\n",
    "                 n_layers,\n",
    "                 bidirectional,\n",
    "                 dropout):\n",
    "\n",
    "        super(POSTagger, self).__init__()\n",
    "\n",
    "        self.word_embeddings = nn.Embedding(input_dim, embedding_dim, padding_idx=1)\n",
    "        self.lstm = nn.LSTM(embedding_dim, hidden_dim, bidirectional = bidirectional)\n",
    "        self.hidden2tag = nn.Linear(hidden_dim * 2 if bidirectional else hidden_dim, output_dim)\n",
    "\n",
    "    def forward(self, x):\n",
    "        embeds = self.word_embeddings(x)\n",
    "        lstm_out, _ = self.lstm(embeds)\n",
    "        tag_space = self.hidden2tag(lstm_out)\n",
    "\n",
    "        return tag_space\n"
   ],
   "metadata": {
    "collapsed": false
   }
  },
  {
   "cell_type": "code",
   "execution_count": 194,
   "outputs": [],
   "source": [
    "from tqdm.autonotebook import tqdm\n",
    "\n",
    "best = -float('inf')\n",
    "\n",
    "def train_one_epoch(\n",
    "        model,\n",
    "        loader,\n",
    "        optimizer,\n",
    "        loss_fn,\n",
    "        epoch_num=-1\n",
    "):\n",
    "    loop = tqdm(\n",
    "        enumerate(loader, 1),\n",
    "        total=len(loader),\n",
    "        desc=f\"Epoch {epoch_num}: train\",\n",
    "        leave=True,\n",
    "    )\n",
    "    model.train()\n",
    "    train_loss = 0.0\n",
    "    total = 0\n",
    "    for i, batch in loop:\n",
    "        texts, labels = batch\n",
    "        # zero the parameter gradients\n",
    "        optimizer.zero_grad()\n",
    "\n",
    "        # forward pass and loss calculation\n",
    "        outputs = model(texts)\n",
    "        outputs = outputs.view(-1, outputs.shape[-1])\n",
    "\n",
    "        labels = labels.reshape(-1)\n",
    "\n",
    "        loss = loss_fn(outputs, labels)\n",
    "\n",
    "        # backward pass\n",
    "        loss.backward()\n",
    "        total += labels.size(0)\n",
    "\n",
    "        # optimizer run\n",
    "        optimizer.step()\n",
    "\n",
    "        train_loss += loss.item()\n",
    "        loop.set_postfix({\"loss\": train_loss/total})\n",
    "\n",
    "def val_one_epoch(\n",
    "        model,\n",
    "        loader,\n",
    "        loss_fn,\n",
    "        epoch_num=-1,\n",
    "        best_so_far=0.0,\n",
    "        ckpt_path='best.pt'\n",
    "):\n",
    "\n",
    "    loop = tqdm(\n",
    "        enumerate(loader, 1),\n",
    "        total=len(loader),\n",
    "        desc=f\"Epoch {epoch_num}: val\",\n",
    "        leave=True,\n",
    "    )\n",
    "    val_loss = 0.0\n",
    "    correct = 0\n",
    "    total = 0\n",
    "    with torch.no_grad():\n",
    "        model.eval()  # evaluation mode\n",
    "        for i, batch in loop:\n",
    "            texts, labels = batch\n",
    "\n",
    "            # forward pass and loss calculation\n",
    "            outputs = model(texts)\n",
    "            outputs = outputs.view(-1, outputs.shape[-1])\n",
    "\n",
    "            labels = labels.reshape(-1)\n",
    "            loss = loss_fn(outputs, labels)\n",
    "\n",
    "            _, predicted = torch.max(outputs.data, 1)\n",
    "            total += labels.size(0)\n",
    "            correct += (predicted == labels).sum().item()\n",
    "\n",
    "            val_loss += loss.item()\n",
    "            loop.set_postfix({\"loss\": val_loss/total, \"acc\": correct / total})\n",
    "\n",
    "        if correct / total > best:\n",
    "            torch.save(model.state_dict(), ckpt_path)\n",
    "            return correct / total\n",
    "\n",
    "    return best_so_far"
   ],
   "metadata": {
    "collapsed": false
   }
  },
  {
   "cell_type": "code",
   "execution_count": 218,
   "outputs": [],
   "source": [
    "INPUT_DIM = 81 # max of formula + 1\n",
    "EMBEDDING_DIM = 128\n",
    "HIDDEN_DIM = 64\n",
    "OUTPUT_DIM = 11 # 5 possible points\n",
    "N_LAYERS = 2\n",
    "BIDIRECTIONAL = False\n",
    "DROPOUT = 0.25\n",
    "PAD_IDX = 1\n",
    "\n",
    "num_epochs = 100\n",
    "\n",
    "\n",
    "model = POSTagger(INPUT_DIM, EMBEDDING_DIM, HIDDEN_DIM, OUTPUT_DIM, N_LAYERS, BIDIRECTIONAL, DROPOUT).to(device)\n",
    "\n",
    "optimizer = torch.optim.Adam(model.parameters())\n",
    "loss_fn = torch.nn.CrossEntropyLoss()"
   ],
   "metadata": {
    "collapsed": false
   }
  },
  {
   "cell_type": "code",
   "execution_count": 219,
   "outputs": [
    {
     "data": {
      "text/plain": "Epoch 0: train:   0%|          | 0/4 [00:00<?, ?it/s]",
      "application/vnd.jupyter.widget-view+json": {
       "version_major": 2,
       "version_minor": 0,
       "model_id": "972f5832870e4deaa9ddbe54bd184ff9"
      }
     },
     "metadata": {},
     "output_type": "display_data"
    },
    {
     "data": {
      "text/plain": "Epoch 1: train:   0%|          | 0/4 [00:00<?, ?it/s]",
      "application/vnd.jupyter.widget-view+json": {
       "version_major": 2,
       "version_minor": 0,
       "model_id": "4320f4d49c72439e81cad646a5dafff3"
      }
     },
     "metadata": {},
     "output_type": "display_data"
    },
    {
     "data": {
      "text/plain": "Epoch 2: train:   0%|          | 0/4 [00:00<?, ?it/s]",
      "application/vnd.jupyter.widget-view+json": {
       "version_major": 2,
       "version_minor": 0,
       "model_id": "1a1ecdda8ca24916aeb8af12d9bf9e61"
      }
     },
     "metadata": {},
     "output_type": "display_data"
    },
    {
     "data": {
      "text/plain": "Epoch 3: train:   0%|          | 0/4 [00:00<?, ?it/s]",
      "application/vnd.jupyter.widget-view+json": {
       "version_major": 2,
       "version_minor": 0,
       "model_id": "b1e12ac291ea43b1b1bfc6524f7553a7"
      }
     },
     "metadata": {},
     "output_type": "display_data"
    },
    {
     "data": {
      "text/plain": "Epoch 4: train:   0%|          | 0/4 [00:00<?, ?it/s]",
      "application/vnd.jupyter.widget-view+json": {
       "version_major": 2,
       "version_minor": 0,
       "model_id": "cc2f95283995470aa21d05c6db2d5719"
      }
     },
     "metadata": {},
     "output_type": "display_data"
    },
    {
     "data": {
      "text/plain": "Epoch 5: train:   0%|          | 0/4 [00:00<?, ?it/s]",
      "application/vnd.jupyter.widget-view+json": {
       "version_major": 2,
       "version_minor": 0,
       "model_id": "0514c22a8ff14962b4065de9f3685765"
      }
     },
     "metadata": {},
     "output_type": "display_data"
    },
    {
     "data": {
      "text/plain": "Epoch 6: train:   0%|          | 0/4 [00:00<?, ?it/s]",
      "application/vnd.jupyter.widget-view+json": {
       "version_major": 2,
       "version_minor": 0,
       "model_id": "77da32c7ccdd4ab6a19a4beb3a57f710"
      }
     },
     "metadata": {},
     "output_type": "display_data"
    },
    {
     "data": {
      "text/plain": "Epoch 7: train:   0%|          | 0/4 [00:00<?, ?it/s]",
      "application/vnd.jupyter.widget-view+json": {
       "version_major": 2,
       "version_minor": 0,
       "model_id": "49c96466da20495d901845e65e731fc0"
      }
     },
     "metadata": {},
     "output_type": "display_data"
    },
    {
     "data": {
      "text/plain": "Epoch 8: train:   0%|          | 0/4 [00:00<?, ?it/s]",
      "application/vnd.jupyter.widget-view+json": {
       "version_major": 2,
       "version_minor": 0,
       "model_id": "38e60279a128453b8fc3cdba06b36dac"
      }
     },
     "metadata": {},
     "output_type": "display_data"
    },
    {
     "data": {
      "text/plain": "Epoch 9: train:   0%|          | 0/4 [00:00<?, ?it/s]",
      "application/vnd.jupyter.widget-view+json": {
       "version_major": 2,
       "version_minor": 0,
       "model_id": "6d47474b36d84bb586195f1660d850d5"
      }
     },
     "metadata": {},
     "output_type": "display_data"
    },
    {
     "data": {
      "text/plain": "Epoch 10: train:   0%|          | 0/4 [00:00<?, ?it/s]",
      "application/vnd.jupyter.widget-view+json": {
       "version_major": 2,
       "version_minor": 0,
       "model_id": "b9b69134ab5d4b4697a2dbfb230a705b"
      }
     },
     "metadata": {},
     "output_type": "display_data"
    },
    {
     "data": {
      "text/plain": "Epoch 11: train:   0%|          | 0/4 [00:00<?, ?it/s]",
      "application/vnd.jupyter.widget-view+json": {
       "version_major": 2,
       "version_minor": 0,
       "model_id": "831750ef4d284c9394c8d37529103ef1"
      }
     },
     "metadata": {},
     "output_type": "display_data"
    },
    {
     "data": {
      "text/plain": "Epoch 12: train:   0%|          | 0/4 [00:00<?, ?it/s]",
      "application/vnd.jupyter.widget-view+json": {
       "version_major": 2,
       "version_minor": 0,
       "model_id": "c24a5aec12614b2fa867ff4c6bbb1e44"
      }
     },
     "metadata": {},
     "output_type": "display_data"
    },
    {
     "data": {
      "text/plain": "Epoch 13: train:   0%|          | 0/4 [00:00<?, ?it/s]",
      "application/vnd.jupyter.widget-view+json": {
       "version_major": 2,
       "version_minor": 0,
       "model_id": "018ca5ba53134fd8a2cdd25699ba9a17"
      }
     },
     "metadata": {},
     "output_type": "display_data"
    },
    {
     "data": {
      "text/plain": "Epoch 14: train:   0%|          | 0/4 [00:00<?, ?it/s]",
      "application/vnd.jupyter.widget-view+json": {
       "version_major": 2,
       "version_minor": 0,
       "model_id": "008a1f5044f14d609693c6a8907ac447"
      }
     },
     "metadata": {},
     "output_type": "display_data"
    },
    {
     "data": {
      "text/plain": "Epoch 15: train:   0%|          | 0/4 [00:00<?, ?it/s]",
      "application/vnd.jupyter.widget-view+json": {
       "version_major": 2,
       "version_minor": 0,
       "model_id": "a5b793e9405a4d978293f3cacf223bc0"
      }
     },
     "metadata": {},
     "output_type": "display_data"
    },
    {
     "data": {
      "text/plain": "Epoch 16: train:   0%|          | 0/4 [00:00<?, ?it/s]",
      "application/vnd.jupyter.widget-view+json": {
       "version_major": 2,
       "version_minor": 0,
       "model_id": "aedea0b67c6a40228ea1e375f0dbece2"
      }
     },
     "metadata": {},
     "output_type": "display_data"
    },
    {
     "data": {
      "text/plain": "Epoch 17: train:   0%|          | 0/4 [00:00<?, ?it/s]",
      "application/vnd.jupyter.widget-view+json": {
       "version_major": 2,
       "version_minor": 0,
       "model_id": "15f84dc66bf348ac9ce7d9c01b8ec193"
      }
     },
     "metadata": {},
     "output_type": "display_data"
    },
    {
     "data": {
      "text/plain": "Epoch 18: train:   0%|          | 0/4 [00:00<?, ?it/s]",
      "application/vnd.jupyter.widget-view+json": {
       "version_major": 2,
       "version_minor": 0,
       "model_id": "55fdcfc17edc45b198e4091afa5e9460"
      }
     },
     "metadata": {},
     "output_type": "display_data"
    },
    {
     "data": {
      "text/plain": "Epoch 19: train:   0%|          | 0/4 [00:00<?, ?it/s]",
      "application/vnd.jupyter.widget-view+json": {
       "version_major": 2,
       "version_minor": 0,
       "model_id": "303e1692b4fe4f128327be6a2a6d611b"
      }
     },
     "metadata": {},
     "output_type": "display_data"
    },
    {
     "data": {
      "text/plain": "Epoch 20: train:   0%|          | 0/4 [00:00<?, ?it/s]",
      "application/vnd.jupyter.widget-view+json": {
       "version_major": 2,
       "version_minor": 0,
       "model_id": "42e1fd4f4c0f4f7cbd0bcb912716bf9c"
      }
     },
     "metadata": {},
     "output_type": "display_data"
    },
    {
     "data": {
      "text/plain": "Epoch 21: train:   0%|          | 0/4 [00:00<?, ?it/s]",
      "application/vnd.jupyter.widget-view+json": {
       "version_major": 2,
       "version_minor": 0,
       "model_id": "cde3081ee87949aba608bf26975781f5"
      }
     },
     "metadata": {},
     "output_type": "display_data"
    },
    {
     "data": {
      "text/plain": "Epoch 22: train:   0%|          | 0/4 [00:00<?, ?it/s]",
      "application/vnd.jupyter.widget-view+json": {
       "version_major": 2,
       "version_minor": 0,
       "model_id": "124f35aba12b42858c9f0713bad9cbfc"
      }
     },
     "metadata": {},
     "output_type": "display_data"
    },
    {
     "data": {
      "text/plain": "Epoch 23: train:   0%|          | 0/4 [00:00<?, ?it/s]",
      "application/vnd.jupyter.widget-view+json": {
       "version_major": 2,
       "version_minor": 0,
       "model_id": "773a4035e84c4c37853a081e271672c5"
      }
     },
     "metadata": {},
     "output_type": "display_data"
    },
    {
     "data": {
      "text/plain": "Epoch 24: train:   0%|          | 0/4 [00:00<?, ?it/s]",
      "application/vnd.jupyter.widget-view+json": {
       "version_major": 2,
       "version_minor": 0,
       "model_id": "bfe31b3f9f92459a85e8a66ee9f7fdc5"
      }
     },
     "metadata": {},
     "output_type": "display_data"
    },
    {
     "data": {
      "text/plain": "Epoch 25: train:   0%|          | 0/4 [00:00<?, ?it/s]",
      "application/vnd.jupyter.widget-view+json": {
       "version_major": 2,
       "version_minor": 0,
       "model_id": "532462e660474ad2b09b3f1ad6431d66"
      }
     },
     "metadata": {},
     "output_type": "display_data"
    },
    {
     "data": {
      "text/plain": "Epoch 26: train:   0%|          | 0/4 [00:00<?, ?it/s]",
      "application/vnd.jupyter.widget-view+json": {
       "version_major": 2,
       "version_minor": 0,
       "model_id": "2b1ae26bd00548adaa8ad7b924dd14b7"
      }
     },
     "metadata": {},
     "output_type": "display_data"
    },
    {
     "data": {
      "text/plain": "Epoch 27: train:   0%|          | 0/4 [00:00<?, ?it/s]",
      "application/vnd.jupyter.widget-view+json": {
       "version_major": 2,
       "version_minor": 0,
       "model_id": "b41fcc1b1f074d42b40a37d5f7c4c633"
      }
     },
     "metadata": {},
     "output_type": "display_data"
    },
    {
     "data": {
      "text/plain": "Epoch 28: train:   0%|          | 0/4 [00:00<?, ?it/s]",
      "application/vnd.jupyter.widget-view+json": {
       "version_major": 2,
       "version_minor": 0,
       "model_id": "bc58aaa951d04a60b162faf460a12192"
      }
     },
     "metadata": {},
     "output_type": "display_data"
    },
    {
     "data": {
      "text/plain": "Epoch 29: train:   0%|          | 0/4 [00:00<?, ?it/s]",
      "application/vnd.jupyter.widget-view+json": {
       "version_major": 2,
       "version_minor": 0,
       "model_id": "add4e871471c4e2c9a2227a37a91e5a8"
      }
     },
     "metadata": {},
     "output_type": "display_data"
    },
    {
     "data": {
      "text/plain": "Epoch 30: train:   0%|          | 0/4 [00:00<?, ?it/s]",
      "application/vnd.jupyter.widget-view+json": {
       "version_major": 2,
       "version_minor": 0,
       "model_id": "9f3517f6321241c784d1fab3e47f7f8b"
      }
     },
     "metadata": {},
     "output_type": "display_data"
    },
    {
     "data": {
      "text/plain": "Epoch 31: train:   0%|          | 0/4 [00:00<?, ?it/s]",
      "application/vnd.jupyter.widget-view+json": {
       "version_major": 2,
       "version_minor": 0,
       "model_id": "7483f61e30434735972ea5e22742eeaf"
      }
     },
     "metadata": {},
     "output_type": "display_data"
    },
    {
     "data": {
      "text/plain": "Epoch 32: train:   0%|          | 0/4 [00:00<?, ?it/s]",
      "application/vnd.jupyter.widget-view+json": {
       "version_major": 2,
       "version_minor": 0,
       "model_id": "72a39d0fdf9147c792f2fb729b584319"
      }
     },
     "metadata": {},
     "output_type": "display_data"
    },
    {
     "data": {
      "text/plain": "Epoch 33: train:   0%|          | 0/4 [00:00<?, ?it/s]",
      "application/vnd.jupyter.widget-view+json": {
       "version_major": 2,
       "version_minor": 0,
       "model_id": "275e0679ba8a400f954e851245a930c6"
      }
     },
     "metadata": {},
     "output_type": "display_data"
    },
    {
     "data": {
      "text/plain": "Epoch 34: train:   0%|          | 0/4 [00:00<?, ?it/s]",
      "application/vnd.jupyter.widget-view+json": {
       "version_major": 2,
       "version_minor": 0,
       "model_id": "8a5590af219c4b0ea3027192953093b6"
      }
     },
     "metadata": {},
     "output_type": "display_data"
    },
    {
     "data": {
      "text/plain": "Epoch 35: train:   0%|          | 0/4 [00:00<?, ?it/s]",
      "application/vnd.jupyter.widget-view+json": {
       "version_major": 2,
       "version_minor": 0,
       "model_id": "a0be8fde7f6445bda6f9548ec88e3bf5"
      }
     },
     "metadata": {},
     "output_type": "display_data"
    },
    {
     "data": {
      "text/plain": "Epoch 36: train:   0%|          | 0/4 [00:00<?, ?it/s]",
      "application/vnd.jupyter.widget-view+json": {
       "version_major": 2,
       "version_minor": 0,
       "model_id": "f70cfc49d0b04df596625ac40218c59d"
      }
     },
     "metadata": {},
     "output_type": "display_data"
    },
    {
     "data": {
      "text/plain": "Epoch 37: train:   0%|          | 0/4 [00:00<?, ?it/s]",
      "application/vnd.jupyter.widget-view+json": {
       "version_major": 2,
       "version_minor": 0,
       "model_id": "3142bc7a3fc74287b96d478b48480c61"
      }
     },
     "metadata": {},
     "output_type": "display_data"
    },
    {
     "data": {
      "text/plain": "Epoch 38: train:   0%|          | 0/4 [00:00<?, ?it/s]",
      "application/vnd.jupyter.widget-view+json": {
       "version_major": 2,
       "version_minor": 0,
       "model_id": "50f2ab9f6ed74321a7f3c0830e964af6"
      }
     },
     "metadata": {},
     "output_type": "display_data"
    },
    {
     "data": {
      "text/plain": "Epoch 39: train:   0%|          | 0/4 [00:00<?, ?it/s]",
      "application/vnd.jupyter.widget-view+json": {
       "version_major": 2,
       "version_minor": 0,
       "model_id": "378dd84a42b94b66b3052dd490112c8e"
      }
     },
     "metadata": {},
     "output_type": "display_data"
    },
    {
     "data": {
      "text/plain": "Epoch 40: train:   0%|          | 0/4 [00:00<?, ?it/s]",
      "application/vnd.jupyter.widget-view+json": {
       "version_major": 2,
       "version_minor": 0,
       "model_id": "73d5463dc9ce4f399340c316791ecc16"
      }
     },
     "metadata": {},
     "output_type": "display_data"
    },
    {
     "data": {
      "text/plain": "Epoch 41: train:   0%|          | 0/4 [00:00<?, ?it/s]",
      "application/vnd.jupyter.widget-view+json": {
       "version_major": 2,
       "version_minor": 0,
       "model_id": "224631a0ce0142dfb26ef6ab421d629c"
      }
     },
     "metadata": {},
     "output_type": "display_data"
    },
    {
     "data": {
      "text/plain": "Epoch 42: train:   0%|          | 0/4 [00:00<?, ?it/s]",
      "application/vnd.jupyter.widget-view+json": {
       "version_major": 2,
       "version_minor": 0,
       "model_id": "2351cdf3f2ee4a2ab999e94e6b1cbecc"
      }
     },
     "metadata": {},
     "output_type": "display_data"
    },
    {
     "data": {
      "text/plain": "Epoch 43: train:   0%|          | 0/4 [00:00<?, ?it/s]",
      "application/vnd.jupyter.widget-view+json": {
       "version_major": 2,
       "version_minor": 0,
       "model_id": "77ee833c33774d08bb8fe4639dd208c9"
      }
     },
     "metadata": {},
     "output_type": "display_data"
    },
    {
     "data": {
      "text/plain": "Epoch 44: train:   0%|          | 0/4 [00:00<?, ?it/s]",
      "application/vnd.jupyter.widget-view+json": {
       "version_major": 2,
       "version_minor": 0,
       "model_id": "5797b0b2c3764c52968c21c21946e517"
      }
     },
     "metadata": {},
     "output_type": "display_data"
    },
    {
     "data": {
      "text/plain": "Epoch 45: train:   0%|          | 0/4 [00:00<?, ?it/s]",
      "application/vnd.jupyter.widget-view+json": {
       "version_major": 2,
       "version_minor": 0,
       "model_id": "63a7e81e7da440479d03592fdfe5286b"
      }
     },
     "metadata": {},
     "output_type": "display_data"
    },
    {
     "data": {
      "text/plain": "Epoch 46: train:   0%|          | 0/4 [00:00<?, ?it/s]",
      "application/vnd.jupyter.widget-view+json": {
       "version_major": 2,
       "version_minor": 0,
       "model_id": "fc2bd738052f463a926d3134d540a7c2"
      }
     },
     "metadata": {},
     "output_type": "display_data"
    },
    {
     "data": {
      "text/plain": "Epoch 47: train:   0%|          | 0/4 [00:00<?, ?it/s]",
      "application/vnd.jupyter.widget-view+json": {
       "version_major": 2,
       "version_minor": 0,
       "model_id": "f179b3e4237948f49efebb0eb40b4825"
      }
     },
     "metadata": {},
     "output_type": "display_data"
    },
    {
     "data": {
      "text/plain": "Epoch 48: train:   0%|          | 0/4 [00:00<?, ?it/s]",
      "application/vnd.jupyter.widget-view+json": {
       "version_major": 2,
       "version_minor": 0,
       "model_id": "fbcfafe2dce94eeebf70e0c9723a0007"
      }
     },
     "metadata": {},
     "output_type": "display_data"
    },
    {
     "data": {
      "text/plain": "Epoch 49: train:   0%|          | 0/4 [00:00<?, ?it/s]",
      "application/vnd.jupyter.widget-view+json": {
       "version_major": 2,
       "version_minor": 0,
       "model_id": "b04e303d2d5844d6800067270fbefb53"
      }
     },
     "metadata": {},
     "output_type": "display_data"
    },
    {
     "data": {
      "text/plain": "Epoch 50: train:   0%|          | 0/4 [00:00<?, ?it/s]",
      "application/vnd.jupyter.widget-view+json": {
       "version_major": 2,
       "version_minor": 0,
       "model_id": "d2916a2182f547a5992a696907ff2dd5"
      }
     },
     "metadata": {},
     "output_type": "display_data"
    },
    {
     "data": {
      "text/plain": "Epoch 51: train:   0%|          | 0/4 [00:00<?, ?it/s]",
      "application/vnd.jupyter.widget-view+json": {
       "version_major": 2,
       "version_minor": 0,
       "model_id": "ba709df3736a40c2a2f7eda83d4ed1e1"
      }
     },
     "metadata": {},
     "output_type": "display_data"
    },
    {
     "data": {
      "text/plain": "Epoch 52: train:   0%|          | 0/4 [00:00<?, ?it/s]",
      "application/vnd.jupyter.widget-view+json": {
       "version_major": 2,
       "version_minor": 0,
       "model_id": "3ebb7cbe9303416a8d3cc44e41301188"
      }
     },
     "metadata": {},
     "output_type": "display_data"
    },
    {
     "data": {
      "text/plain": "Epoch 53: train:   0%|          | 0/4 [00:00<?, ?it/s]",
      "application/vnd.jupyter.widget-view+json": {
       "version_major": 2,
       "version_minor": 0,
       "model_id": "fa06f48a545243748a38170ead3c9431"
      }
     },
     "metadata": {},
     "output_type": "display_data"
    },
    {
     "data": {
      "text/plain": "Epoch 54: train:   0%|          | 0/4 [00:00<?, ?it/s]",
      "application/vnd.jupyter.widget-view+json": {
       "version_major": 2,
       "version_minor": 0,
       "model_id": "fc1b7369fec542f6877fe27fd9a4a379"
      }
     },
     "metadata": {},
     "output_type": "display_data"
    },
    {
     "data": {
      "text/plain": "Epoch 55: train:   0%|          | 0/4 [00:00<?, ?it/s]",
      "application/vnd.jupyter.widget-view+json": {
       "version_major": 2,
       "version_minor": 0,
       "model_id": "c8423ff5ad2a4b7896bb5dd7a45184bf"
      }
     },
     "metadata": {},
     "output_type": "display_data"
    },
    {
     "data": {
      "text/plain": "Epoch 56: train:   0%|          | 0/4 [00:00<?, ?it/s]",
      "application/vnd.jupyter.widget-view+json": {
       "version_major": 2,
       "version_minor": 0,
       "model_id": "3a4bcb64993d4217b72fcd310c907875"
      }
     },
     "metadata": {},
     "output_type": "display_data"
    },
    {
     "data": {
      "text/plain": "Epoch 57: train:   0%|          | 0/4 [00:00<?, ?it/s]",
      "application/vnd.jupyter.widget-view+json": {
       "version_major": 2,
       "version_minor": 0,
       "model_id": "b274ea9ba43e44ce848963b20287c523"
      }
     },
     "metadata": {},
     "output_type": "display_data"
    },
    {
     "data": {
      "text/plain": "Epoch 58: train:   0%|          | 0/4 [00:00<?, ?it/s]",
      "application/vnd.jupyter.widget-view+json": {
       "version_major": 2,
       "version_minor": 0,
       "model_id": "6569e0b43c3f4ea2924765fe735bb795"
      }
     },
     "metadata": {},
     "output_type": "display_data"
    },
    {
     "data": {
      "text/plain": "Epoch 59: train:   0%|          | 0/4 [00:00<?, ?it/s]",
      "application/vnd.jupyter.widget-view+json": {
       "version_major": 2,
       "version_minor": 0,
       "model_id": "ab0b979cf3fa4d688eb0e2e6f94edf74"
      }
     },
     "metadata": {},
     "output_type": "display_data"
    },
    {
     "data": {
      "text/plain": "Epoch 60: train:   0%|          | 0/4 [00:00<?, ?it/s]",
      "application/vnd.jupyter.widget-view+json": {
       "version_major": 2,
       "version_minor": 0,
       "model_id": "0ca66872af1846eb80bfd2bdc114ef8d"
      }
     },
     "metadata": {},
     "output_type": "display_data"
    },
    {
     "data": {
      "text/plain": "Epoch 61: train:   0%|          | 0/4 [00:00<?, ?it/s]",
      "application/vnd.jupyter.widget-view+json": {
       "version_major": 2,
       "version_minor": 0,
       "model_id": "5271fd7be2a54905a9b2ff8bdda186ba"
      }
     },
     "metadata": {},
     "output_type": "display_data"
    },
    {
     "data": {
      "text/plain": "Epoch 62: train:   0%|          | 0/4 [00:00<?, ?it/s]",
      "application/vnd.jupyter.widget-view+json": {
       "version_major": 2,
       "version_minor": 0,
       "model_id": "cb7fc98910b44869bb01c5e6953d6315"
      }
     },
     "metadata": {},
     "output_type": "display_data"
    },
    {
     "data": {
      "text/plain": "Epoch 63: train:   0%|          | 0/4 [00:00<?, ?it/s]",
      "application/vnd.jupyter.widget-view+json": {
       "version_major": 2,
       "version_minor": 0,
       "model_id": "94cab7efbc084ff681880175ecf8212a"
      }
     },
     "metadata": {},
     "output_type": "display_data"
    },
    {
     "data": {
      "text/plain": "Epoch 64: train:   0%|          | 0/4 [00:00<?, ?it/s]",
      "application/vnd.jupyter.widget-view+json": {
       "version_major": 2,
       "version_minor": 0,
       "model_id": "1631468183fb49d39bda3caa40091870"
      }
     },
     "metadata": {},
     "output_type": "display_data"
    },
    {
     "data": {
      "text/plain": "Epoch 65: train:   0%|          | 0/4 [00:00<?, ?it/s]",
      "application/vnd.jupyter.widget-view+json": {
       "version_major": 2,
       "version_minor": 0,
       "model_id": "604e96e0e32c4c5194a60d8b1f04658d"
      }
     },
     "metadata": {},
     "output_type": "display_data"
    },
    {
     "data": {
      "text/plain": "Epoch 66: train:   0%|          | 0/4 [00:00<?, ?it/s]",
      "application/vnd.jupyter.widget-view+json": {
       "version_major": 2,
       "version_minor": 0,
       "model_id": "8c542e28211540dcb0c75ba44391a176"
      }
     },
     "metadata": {},
     "output_type": "display_data"
    },
    {
     "data": {
      "text/plain": "Epoch 67: train:   0%|          | 0/4 [00:00<?, ?it/s]",
      "application/vnd.jupyter.widget-view+json": {
       "version_major": 2,
       "version_minor": 0,
       "model_id": "a472435a4e8d435caf350f5207511e71"
      }
     },
     "metadata": {},
     "output_type": "display_data"
    },
    {
     "data": {
      "text/plain": "Epoch 68: train:   0%|          | 0/4 [00:00<?, ?it/s]",
      "application/vnd.jupyter.widget-view+json": {
       "version_major": 2,
       "version_minor": 0,
       "model_id": "33a27ee88b4c4d178a694c27e089a9eb"
      }
     },
     "metadata": {},
     "output_type": "display_data"
    },
    {
     "data": {
      "text/plain": "Epoch 69: train:   0%|          | 0/4 [00:00<?, ?it/s]",
      "application/vnd.jupyter.widget-view+json": {
       "version_major": 2,
       "version_minor": 0,
       "model_id": "f145c8dd359b47c696f11ec59aa8b88f"
      }
     },
     "metadata": {},
     "output_type": "display_data"
    },
    {
     "data": {
      "text/plain": "Epoch 70: train:   0%|          | 0/4 [00:00<?, ?it/s]",
      "application/vnd.jupyter.widget-view+json": {
       "version_major": 2,
       "version_minor": 0,
       "model_id": "42187786c9d349a5961aeca1a3bc4e43"
      }
     },
     "metadata": {},
     "output_type": "display_data"
    },
    {
     "data": {
      "text/plain": "Epoch 71: train:   0%|          | 0/4 [00:00<?, ?it/s]",
      "application/vnd.jupyter.widget-view+json": {
       "version_major": 2,
       "version_minor": 0,
       "model_id": "ed8694e12d114399917efcd28f26c5c1"
      }
     },
     "metadata": {},
     "output_type": "display_data"
    },
    {
     "data": {
      "text/plain": "Epoch 72: train:   0%|          | 0/4 [00:00<?, ?it/s]",
      "application/vnd.jupyter.widget-view+json": {
       "version_major": 2,
       "version_minor": 0,
       "model_id": "872214f20c5f4543b35fa5c722c2d6ce"
      }
     },
     "metadata": {},
     "output_type": "display_data"
    },
    {
     "data": {
      "text/plain": "Epoch 73: train:   0%|          | 0/4 [00:00<?, ?it/s]",
      "application/vnd.jupyter.widget-view+json": {
       "version_major": 2,
       "version_minor": 0,
       "model_id": "9f044968f3a04f8784063a5e53b829e7"
      }
     },
     "metadata": {},
     "output_type": "display_data"
    },
    {
     "data": {
      "text/plain": "Epoch 74: train:   0%|          | 0/4 [00:00<?, ?it/s]",
      "application/vnd.jupyter.widget-view+json": {
       "version_major": 2,
       "version_minor": 0,
       "model_id": "b46ed6248f864386a02ad50a3a52bdce"
      }
     },
     "metadata": {},
     "output_type": "display_data"
    },
    {
     "data": {
      "text/plain": "Epoch 75: train:   0%|          | 0/4 [00:00<?, ?it/s]",
      "application/vnd.jupyter.widget-view+json": {
       "version_major": 2,
       "version_minor": 0,
       "model_id": "c8e0fcf87c384ab49ea61de4c96cfd6f"
      }
     },
     "metadata": {},
     "output_type": "display_data"
    },
    {
     "data": {
      "text/plain": "Epoch 76: train:   0%|          | 0/4 [00:00<?, ?it/s]",
      "application/vnd.jupyter.widget-view+json": {
       "version_major": 2,
       "version_minor": 0,
       "model_id": "bb8a6d8609c447b193cdd14e297a5fa4"
      }
     },
     "metadata": {},
     "output_type": "display_data"
    },
    {
     "data": {
      "text/plain": "Epoch 77: train:   0%|          | 0/4 [00:00<?, ?it/s]",
      "application/vnd.jupyter.widget-view+json": {
       "version_major": 2,
       "version_minor": 0,
       "model_id": "fc4b94fb20f44fcfa3b3992db0cbf710"
      }
     },
     "metadata": {},
     "output_type": "display_data"
    },
    {
     "data": {
      "text/plain": "Epoch 78: train:   0%|          | 0/4 [00:00<?, ?it/s]",
      "application/vnd.jupyter.widget-view+json": {
       "version_major": 2,
       "version_minor": 0,
       "model_id": "dd1d467c4dde459094c7bced0bf7a422"
      }
     },
     "metadata": {},
     "output_type": "display_data"
    },
    {
     "data": {
      "text/plain": "Epoch 79: train:   0%|          | 0/4 [00:00<?, ?it/s]",
      "application/vnd.jupyter.widget-view+json": {
       "version_major": 2,
       "version_minor": 0,
       "model_id": "a553b370d60945ad96369422124669ac"
      }
     },
     "metadata": {},
     "output_type": "display_data"
    },
    {
     "data": {
      "text/plain": "Epoch 80: train:   0%|          | 0/4 [00:00<?, ?it/s]",
      "application/vnd.jupyter.widget-view+json": {
       "version_major": 2,
       "version_minor": 0,
       "model_id": "c0f310c45106499980aebb49fc1ae20c"
      }
     },
     "metadata": {},
     "output_type": "display_data"
    },
    {
     "data": {
      "text/plain": "Epoch 81: train:   0%|          | 0/4 [00:00<?, ?it/s]",
      "application/vnd.jupyter.widget-view+json": {
       "version_major": 2,
       "version_minor": 0,
       "model_id": "39e8ef5b46fc43969cf69a3841530f26"
      }
     },
     "metadata": {},
     "output_type": "display_data"
    },
    {
     "data": {
      "text/plain": "Epoch 82: train:   0%|          | 0/4 [00:00<?, ?it/s]",
      "application/vnd.jupyter.widget-view+json": {
       "version_major": 2,
       "version_minor": 0,
       "model_id": "8ec1345470c04c93b4a6d61e14112338"
      }
     },
     "metadata": {},
     "output_type": "display_data"
    },
    {
     "data": {
      "text/plain": "Epoch 83: train:   0%|          | 0/4 [00:00<?, ?it/s]",
      "application/vnd.jupyter.widget-view+json": {
       "version_major": 2,
       "version_minor": 0,
       "model_id": "753cb50f5f28498e8308a74c05377e63"
      }
     },
     "metadata": {},
     "output_type": "display_data"
    },
    {
     "data": {
      "text/plain": "Epoch 84: train:   0%|          | 0/4 [00:00<?, ?it/s]",
      "application/vnd.jupyter.widget-view+json": {
       "version_major": 2,
       "version_minor": 0,
       "model_id": "d4da73ede3104542bb69717fdff970bb"
      }
     },
     "metadata": {},
     "output_type": "display_data"
    },
    {
     "data": {
      "text/plain": "Epoch 85: train:   0%|          | 0/4 [00:00<?, ?it/s]",
      "application/vnd.jupyter.widget-view+json": {
       "version_major": 2,
       "version_minor": 0,
       "model_id": "b3fb7a71484c4f53ba7d20f36b843635"
      }
     },
     "metadata": {},
     "output_type": "display_data"
    },
    {
     "data": {
      "text/plain": "Epoch 86: train:   0%|          | 0/4 [00:00<?, ?it/s]",
      "application/vnd.jupyter.widget-view+json": {
       "version_major": 2,
       "version_minor": 0,
       "model_id": "80b41c8d2c7740aaaa07373bacf5463b"
      }
     },
     "metadata": {},
     "output_type": "display_data"
    },
    {
     "data": {
      "text/plain": "Epoch 87: train:   0%|          | 0/4 [00:00<?, ?it/s]",
      "application/vnd.jupyter.widget-view+json": {
       "version_major": 2,
       "version_minor": 0,
       "model_id": "2421734c0b844da8b66a1853b2524166"
      }
     },
     "metadata": {},
     "output_type": "display_data"
    },
    {
     "data": {
      "text/plain": "Epoch 88: train:   0%|          | 0/4 [00:00<?, ?it/s]",
      "application/vnd.jupyter.widget-view+json": {
       "version_major": 2,
       "version_minor": 0,
       "model_id": "1b3cc131bdca4b5da2026a9d5b31d57e"
      }
     },
     "metadata": {},
     "output_type": "display_data"
    },
    {
     "data": {
      "text/plain": "Epoch 89: train:   0%|          | 0/4 [00:00<?, ?it/s]",
      "application/vnd.jupyter.widget-view+json": {
       "version_major": 2,
       "version_minor": 0,
       "model_id": "f0acbdcfd6ff4474baef07b55d0889f6"
      }
     },
     "metadata": {},
     "output_type": "display_data"
    },
    {
     "data": {
      "text/plain": "Epoch 90: train:   0%|          | 0/4 [00:00<?, ?it/s]",
      "application/vnd.jupyter.widget-view+json": {
       "version_major": 2,
       "version_minor": 0,
       "model_id": "98a526ca5ff5477b8a9da1ade3c6977e"
      }
     },
     "metadata": {},
     "output_type": "display_data"
    },
    {
     "data": {
      "text/plain": "Epoch 91: train:   0%|          | 0/4 [00:00<?, ?it/s]",
      "application/vnd.jupyter.widget-view+json": {
       "version_major": 2,
       "version_minor": 0,
       "model_id": "32bee2ba9ba640d0a034ad15c0d1b1e3"
      }
     },
     "metadata": {},
     "output_type": "display_data"
    },
    {
     "data": {
      "text/plain": "Epoch 92: train:   0%|          | 0/4 [00:00<?, ?it/s]",
      "application/vnd.jupyter.widget-view+json": {
       "version_major": 2,
       "version_minor": 0,
       "model_id": "eec31094b10148d2bee12969d62f07d8"
      }
     },
     "metadata": {},
     "output_type": "display_data"
    },
    {
     "data": {
      "text/plain": "Epoch 93: train:   0%|          | 0/4 [00:00<?, ?it/s]",
      "application/vnd.jupyter.widget-view+json": {
       "version_major": 2,
       "version_minor": 0,
       "model_id": "dfc1a9e89d04421baa9610856f9159b2"
      }
     },
     "metadata": {},
     "output_type": "display_data"
    },
    {
     "data": {
      "text/plain": "Epoch 94: train:   0%|          | 0/4 [00:00<?, ?it/s]",
      "application/vnd.jupyter.widget-view+json": {
       "version_major": 2,
       "version_minor": 0,
       "model_id": "a6289737670943b6b5c83ea77609be35"
      }
     },
     "metadata": {},
     "output_type": "display_data"
    },
    {
     "data": {
      "text/plain": "Epoch 95: train:   0%|          | 0/4 [00:00<?, ?it/s]",
      "application/vnd.jupyter.widget-view+json": {
       "version_major": 2,
       "version_minor": 0,
       "model_id": "c3eee58e09dd446db099b1706743562a"
      }
     },
     "metadata": {},
     "output_type": "display_data"
    },
    {
     "data": {
      "text/plain": "Epoch 96: train:   0%|          | 0/4 [00:00<?, ?it/s]",
      "application/vnd.jupyter.widget-view+json": {
       "version_major": 2,
       "version_minor": 0,
       "model_id": "e91231007d6c47cc8138622cd077e29b"
      }
     },
     "metadata": {},
     "output_type": "display_data"
    },
    {
     "data": {
      "text/plain": "Epoch 97: train:   0%|          | 0/4 [00:00<?, ?it/s]",
      "application/vnd.jupyter.widget-view+json": {
       "version_major": 2,
       "version_minor": 0,
       "model_id": "72b433719889462e839f82b6d155dde4"
      }
     },
     "metadata": {},
     "output_type": "display_data"
    },
    {
     "data": {
      "text/plain": "Epoch 98: train:   0%|          | 0/4 [00:00<?, ?it/s]",
      "application/vnd.jupyter.widget-view+json": {
       "version_major": 2,
       "version_minor": 0,
       "model_id": "bbb59a634341423594c097aaa3b8d267"
      }
     },
     "metadata": {},
     "output_type": "display_data"
    },
    {
     "data": {
      "text/plain": "Epoch 99: train:   0%|          | 0/4 [00:00<?, ?it/s]",
      "application/vnd.jupyter.widget-view+json": {
       "version_major": 2,
       "version_minor": 0,
       "model_id": "0d80890247fa48fa8e3538563ac39adf"
      }
     },
     "metadata": {},
     "output_type": "display_data"
    }
   ],
   "source": [
    "best = -float('inf')\n",
    "for epoch in range(num_epochs):\n",
    "    train_one_epoch(model, val_dataloader, optimizer, loss_fn, epoch_num=epoch)"
   ],
   "metadata": {
    "collapsed": false
   }
  },
  {
   "cell_type": "code",
   "execution_count": 220,
   "outputs": [],
   "source": [
    "torch.save(model.state_dict(), 'best.pt')"
   ],
   "metadata": {
    "collapsed": false
   }
  },
  {
   "cell_type": "markdown",
   "source": [
    "# Predictions"
   ],
   "metadata": {
    "collapsed": false
   }
  },
  {
   "cell_type": "code",
   "execution_count": 221,
   "outputs": [],
   "source": [
    "def predict(\n",
    "        model,\n",
    "        text,\n",
    "        length\n",
    "):\n",
    "    predictions = []\n",
    "    with torch.no_grad():\n",
    "        model.eval()  # evaluation mode\n",
    "\n",
    "        # forward pass and loss calculation\n",
    "        outputs = model(text)\n",
    "\n",
    "\n",
    "        _, predicted = torch.max(outputs.data, 1)\n",
    "        predictions += predicted[:length].detach().cpu().tolist()\n",
    "\n",
    "    return predictions"
   ],
   "metadata": {
    "collapsed": false
   }
  },
  {
   "cell_type": "code",
   "execution_count": 256,
   "outputs": [
    {
     "data": {
      "text/plain": "[5, 6, 7]"
     },
     "execution_count": 256,
     "metadata": {},
     "output_type": "execute_result"
    }
   ],
   "source": [
    "prev = [3, 4]\n",
    "next_complexity = 20\n",
    "prev.append(next_complexity)\n",
    "\n",
    "prev_tensor  = torch.Tensor(prev).long()\n",
    "complexity_padding = torch.Tensor([0] * (max_size - len(prev))).long()\n",
    "to_predict = torch.concat((prev_tensor, complexity_padding))\n",
    "\n",
    "l = predict(model, to_predict, len(prev))\n",
    "l"
   ],
   "metadata": {
    "collapsed": false
   }
  },
  {
   "cell_type": "code",
   "execution_count": null,
   "outputs": [],
   "source": [],
   "metadata": {
    "collapsed": false
   }
  }
 ],
 "metadata": {
  "kernelspec": {
   "display_name": "Python 3",
   "language": "python",
   "name": "python3"
  },
  "language_info": {
   "codemirror_mode": {
    "name": "ipython",
    "version": 2
   },
   "file_extension": ".py",
   "mimetype": "text/x-python",
   "name": "python",
   "nbconvert_exporter": "python",
   "pygments_lexer": "ipython2",
   "version": "2.7.6"
  }
 },
 "nbformat": 4,
 "nbformat_minor": 0
}
